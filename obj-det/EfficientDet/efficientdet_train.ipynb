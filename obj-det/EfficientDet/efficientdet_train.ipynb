{
 "cells": [
  {
   "cell_type": "code",
   "execution_count": 12,
   "id": "08b50e3d-a180-4b6c-8101-f0d0b49f7245",
   "metadata": {},
   "outputs": [
    {
     "name": "stdout",
     "output_type": "stream",
     "text": [
      "cuda\n"
     ]
    }
   ],
   "source": [
    "#from pycocotools.coco import COCO\n",
    "import gluoncv.utils as gcv\n",
    "import torch\n",
    "from effdet import get_efficientdet_config, EfficientDet, DetBenchTrain\n",
    "from effdet.efficientdet import HeadNet\n",
    "import os\n",
    "from datetime import datetime\n",
    "import time\n",
    "import random\n",
    "import cv2\n",
    "import pandas as pd\n",
    "import numpy as np\n",
    "import albumentations as A\n",
    "from albumentations.pytorch.transforms import ToTensorV2\n",
    "import matplotlib.pyplot as plt\n",
    "from sklearn.model_selection import KFold\n",
    "from torch.utils.data import DataLoader, Dataset\n",
    "from tqdm import tqdm\n",
    "import warnings\n",
    "from torch.optim.lr_scheduler import _LRScheduler, CosineAnnealingLR\n",
    "warnings.filterwarnings(action='ignore') \n",
    "\n",
    "device = torch.device('cuda') if torch.cuda.is_available() else torch.device('cpu')\n",
    "print(device)"
   ]
  },
  {
   "cell_type": "code",
   "execution_count": 2,
   "id": "322cc5ed-0626-4ad5-b6a4-e14b18557e7b",
   "metadata": {},
   "outputs": [],
   "source": [
    "def seed_everything(seed):\n",
    "    random.seed(seed)\n",
    "    os.environ['PYTHONHASHSEED'] = str(seed)\n",
    "    np.random.seed(seed)\n",
    "    torch.manual_seed(seed)\n",
    "    torch.cuda.manual_seed(seed)\n",
    "    torch.backends.cudnn.deterministic = True\n",
    "    torch.backends.cudnn.benchmark = True"
   ]
  },
  {
   "cell_type": "code",
   "execution_count": 3,
   "id": "5af58508-6eaa-455f-91f9-2669fdcdcd4d",
   "metadata": {},
   "outputs": [],
   "source": [
    "batch_size = 6\n",
    "learning_rate = 3e-4\n",
    "num_epochs = 100\n",
    "seed = 41\n",
    "seed_everything(seed)"
   ]
  },
  {
   "cell_type": "code",
   "execution_count": 4,
   "id": "0ebe5e0e-6dde-4777-88d3-e34cdebd42e9",
   "metadata": {
    "tags": []
   },
   "outputs": [],
   "source": [
    "IMAGENET_DEFAULT_MEAN = [x * 255 for x in (0.485, 0.456, 0.406)]\n",
    "IMAGENET_DEFAULT_STD = [x * 255 for x in (0.229, 0.224, 0.225)]\n",
    "\n",
    "class CustomDataset(Dataset):\n",
    "    '''\n",
    "      data_dir: data가 존재하는 폴더 경로\n",
    "      transforms: data transform (resize, crop, Totensor, etc,,,)\n",
    "    '''\n",
    "    def __init__(self, annotation, data_dir, transforms):\n",
    "        super().__init__()\n",
    "        self.data_dir = data_dir\n",
    "        # coco annotation 불러오기 (coco API)\n",
    "        self.coco = COCO(annotation)\n",
    "        self.predictions = {\n",
    "            \"images\": self.coco.dataset[\"images\"].copy(),\n",
    "            \"categories\": self.coco.dataset[\"categories\"].copy(),\n",
    "            \"annotations\": None\n",
    "        }\n",
    "        self.transforms = transforms\n",
    "\n",
    "    def __getitem__(self, index: int):\n",
    "        image_id = self.coco.getImgIds(imgIds=index)\n",
    "        image, boxes, labels = self.load_image_and_boxes(index)\n",
    "\n",
    "        target = {}\n",
    "        target['boxes'] = boxes\n",
    "        target['labels'] = labels\n",
    "        target['image_id'] = torch.tensor([index])\n",
    "        \n",
    "        # Multi Scale\n",
    "        target['img_size'] = torch.tensor([(512, 512)])\n",
    "        target['img_scale'] = torch.tensor([1.])\n",
    "        \n",
    "        if self.transforms:\n",
    "            # Transform 적용 후 Box가 없다면 있을 때 까지 반복 (default = 10)\n",
    "            for i in range(10):\n",
    "                sample = {\n",
    "                    'image': image,\n",
    "                    'bboxes': target['boxes'],\n",
    "                    'labels': target['labels']\n",
    "                }\n",
    "                sample = self.transforms(**sample)\n",
    "                if len(sample['bboxes']) > 0:\n",
    "                    image = sample['image']\n",
    "                    target['boxes'] = torch.stack(tuple(map(torch.tensor, zip(*sample['bboxes'])))).permute(1, 0)\n",
    "                    target['boxes'][:,[0,1,2,3]] = target['boxes'][:,[1,0,3,2]]  #yxyx: be warning\n",
    "                    target['labels'] = torch.tensor(sample['labels'])\n",
    "                    break\n",
    "        \n",
    "        return image, target, image_id\n",
    "    \n",
    "    def __len__(self) -> int:\n",
    "        return len(self.coco.getImgIds())\n",
    "    \n",
    "    def load_image_and_boxes(self, index):\n",
    "        image_id = self.coco.getImgIds(imgIds=index)\n",
    "        image_info = self.coco.loadImgs(image_id)[0]\n",
    "        \n",
    "        image = cv2.imread(os.path.join(self.data_dir, image_info['file_name']))\n",
    "        image = cv2.cvtColor(image, cv2.COLOR_BGR2RGB).astype(np.float32)\n",
    "        image = (image - IMAGENET_DEFAULT_MEAN) / IMAGENET_DEFAULT_STD\n",
    "\n",
    "        ann_ids = self.coco.getAnnIds(imgIds=image_info['id'])\n",
    "        anns = self.coco.loadAnns(ann_ids)\n",
    "\n",
    "        boxes = np.array([x['bbox'] for x in anns])\n",
    "        \n",
    "        labels = np.array([x['category_id'] for x in anns])\n",
    "        #labels = torch.as_tensor(labels, dtype=torch.int64)\n",
    "\n",
    "        # boxex (x_min, y_min, x_max, y_max)\n",
    "        boxes[:, 2] = boxes[:, 0] + boxes[:, 2]\n",
    "        boxes[:, 3] = boxes[:, 1] + boxes[:, 3]\n",
    "        return image, boxes, labels"
   ]
  },
  {
   "cell_type": "code",
   "execution_count": 5,
   "id": "87efad4a-337a-485f-aa48-1ff6fb8a3441",
   "metadata": {},
   "outputs": [
    {
     "name": "stdout",
     "output_type": "stream",
     "text": [
      "loading annotations into memory...\n",
      "Done (t=4.36s)\n",
      "creating index...\n",
      "index created!\n",
      "loading annotations into memory...\n",
      "Done (t=0.77s)\n",
      "creating index...\n",
      "index created!\n"
     ]
    }
   ],
   "source": [
    "def collate_fn(batch):\n",
    "    return tuple(zip(*batch))\n",
    "\n",
    "def get_train_transform():\n",
    "    return A.Compose([\n",
    "        A.RandomResizedCrop(384, 384, p=0.3),\n",
    "        A.Resize(512, 512),\n",
    "        A.ShiftScaleRotate(rotate_limit=30,p=0.4),\n",
    "        A.HorizontalFlip(p=0.5),\n",
    "        ToTensorV2(p=1.0)\n",
    "    ], bbox_params=A.BboxParams(\n",
    "            format='pascal_voc',\n",
    "            min_area=0, \n",
    "            min_visibility=0,\n",
    "            label_fields=['labels'])\n",
    "    )\n",
    "\n",
    "def get_valid_transform():\n",
    "    return A.Compose([\n",
    "        A.Resize(512, 512),\n",
    "        ToTensorV2(p=1.0)\n",
    "    ], bbox_params=A.BboxParams(\n",
    "            format='pascal_voc',\n",
    "            min_area=0, \n",
    "            min_visibility=0,\n",
    "            label_fields=['labels'])\n",
    "    )\n",
    "\n",
    "train_annotation = './input/data/train_all.json'\n",
    "val_annotation = './input/data/val.json'\n",
    "data_dir = './input/data'\n",
    "train_dataset = CustomDataset(train_annotation, data_dir, get_train_transform())\n",
    "val_dataset = CustomDataset(val_annotation, data_dir, get_valid_transform())\n",
    "\n",
    "train_data_loader=DataLoader(train_dataset,batch_size=batch_size,shuffle=True,collate_fn=collate_fn,num_workers=4)\n",
    "val_data_loader=DataLoader(val_dataset,batch_size=batch_size,shuffle=False,collate_fn=collate_fn,num_workers=4)"
   ]
  },
  {
   "cell_type": "code",
   "execution_count": 6,
   "id": "61b16fef-967d-4bcd-9b59-b5c284cb71df",
   "metadata": {},
   "outputs": [],
   "source": [
    "def get_model(check_dir = None):\n",
    "    # get weight\n",
    "    # url : https://github.com/rwightman/efficientdet-pytorch\n",
    "    config = get_efficientdet_config('tf_efficientdet_d6')\n",
    "    config.image_size = (512, 512)\n",
    "    config.norm_kwargs=dict(eps=.001, momentum=.01)\n",
    "    net = EfficientDet(config, pretrained_backbone=True)\n",
    "    if check_dir != None:\n",
    "        checkpoint = torch.load(check_dir)\n",
    "        net.load_state_dict(checkpoint)\n",
    "\n",
    "    net.reset_head(num_classes=11)\n",
    "    net.class_net = HeadNet(config, num_outputs=11)\n",
    "    return DetBenchTrain(net, config)"
   ]
  },
  {
   "cell_type": "code",
   "execution_count": 7,
   "id": "e140a1d9-15de-49ac-8dae-f5030fe30857",
   "metadata": {
    "tags": []
   },
   "outputs": [],
   "source": [
    "class AverageMeter(object):\n",
    "    \"\"\"Computes and stores the average and current value\"\"\"\n",
    "    def __init__(self):\n",
    "        self.reset()\n",
    "\n",
    "    def reset(self):\n",
    "        self.val = 0\n",
    "        self.avg = 0\n",
    "        self.sum = 0\n",
    "        self.count = 0\n",
    "\n",
    "    def update(self, val, n=1):\n",
    "        self.val = val\n",
    "        self.sum += val * n\n",
    "        self.count += n\n",
    "        self.avg = self.sum / self.count\n",
    "\n",
    "class EarlyStopping:\n",
    "    def __init__(self, patience=10, verbose=False, delta=0, path=None):\n",
    "        self.patience = patience\n",
    "        self.verbose = verbose\n",
    "        self.counter = 0\n",
    "        self.best_score = None\n",
    "        self.early_stop = False\n",
    "        self.delta = delta\n",
    "        self.path = path\n",
    "\n",
    "    def __call__(self, val_mAP, model):\n",
    "        score = val_mAP\n",
    "        if self.best_score is None:\n",
    "            self.best_score = score\n",
    "            self.save_checkpoint(model)\n",
    "        elif score < self.best_score + self.delta:\n",
    "            self.counter += 1\n",
    "            if self.verbose:\n",
    "                print(f'EarlyStopping counter: {self.counter} out of {self.patience}')\n",
    "            if self.counter >= self.patience:\n",
    "                self.early_stop = True\n",
    "        else:\n",
    "            self.best_score = score\n",
    "            self.save_checkpoint(model)\n",
    "            self.counter = 0\n",
    "\n",
    "    def save_checkpoint(self, model):\n",
    "        model.eval()\n",
    "        torch.save(model.state_dict(), self.path)\n",
    "        print(\"model is saved..\")"
   ]
  },
  {
   "cell_type": "code",
   "execution_count": 8,
   "id": "8dc21dfc-3a47-4587-b0dd-5e054ca0a038",
   "metadata": {},
   "outputs": [],
   "source": [
    "def train_fn(model, train_data_loader, val_data_loader, optimizer, scheduler, device):\n",
    "    model.train()\n",
    "    train_loss = AverageMeter()\n",
    "    train_cls_loss = AverageMeter()\n",
    "    train_box_loss = AverageMeter()\n",
    "    save_path = './saved/checkpoint.pth'\n",
    "    early_stop = EarlyStopping(path=save_path)\n",
    "    for epoch in range(num_epochs):\n",
    "        train_loss.reset()\n",
    "        train_cls_loss.reset()\n",
    "        train_box_loss.reset()\n",
    "        model.train()\n",
    "        for images, targets, image_ids in tqdm(train_data_loader):\n",
    "            # gpu 계산을 위해 image.to(device)\n",
    "            images = torch.stack(images)\n",
    "            images = images.to(device).float()\n",
    "            current_batch_size = images.shape[0]\n",
    "\n",
    "            targets2 = {}\n",
    "            targets2['bbox'] = [target['boxes'].to(device).float() for target in targets] # variable number of instances, so the entire structure can be forced to tensor\n",
    "            targets2['cls'] = [target['labels'].to(device).float() for target in targets]\n",
    "            targets2['image_id'] = torch.tensor([target['image_id'] for target in targets]).to(device).float()\n",
    "            targets2['img_scale'] = torch.tensor([target['img_scale'] for target in targets]).to(device).float()\n",
    "            targets2['img_size'] = torch.tensor([(512, 512) for target in targets]).to(device).float()\n",
    "\n",
    "            # calculate loss\n",
    "            losses, cls_loss, box_loss = model(images, targets2).values()\n",
    "\n",
    "            train_loss.update(losses.detach().item(), current_batch_size)\n",
    "            train_cls_loss.update(cls_loss.detach().item(), current_batch_size)\n",
    "            train_box_loss.update(box_loss.detach().item(), current_batch_size)\n",
    "\n",
    "            # backward\n",
    "            optimizer.zero_grad()\n",
    "            losses.backward()\n",
    "            torch.nn.utils.clip_grad_norm_(model.parameters(), 10.0)\n",
    "            optimizer.step()\n",
    "        scheduler.step()\n",
    "        \n",
    "        # Evaluation\n",
    "        val_loss, val_mAP = vali_fn(val_data_loader,model,device)\n",
    "        \n",
    "        print(f\"\\nEpoch #{epoch+1} train loss: [{train_loss.avg:.4f}] train cls loss : [{train_cls_loss.avg:.4f}] train box loss : [{train_box_loss.avg:.4f}] validation mAP : [{val_mAP:.4f}] \")\n",
    "        print(f\"learning rate :{scheduler.get_lr()} \\n\")\n",
    "        wandb.log({\"Train Loss\":train_loss.avg, \"Validation mAP@50\":val_mAP, \"LR\":scheduler.get_lr()})\n",
    "        early_stop(val_mAP,model)\n",
    "        if early_stop.early_stop:\n",
    "            print('Stop Training.....')\n",
    "            break"
   ]
  },
  {
   "cell_type": "code",
   "execution_count": 9,
   "id": "e09ace0a-cb0b-49aa-9a0c-97790f61d26b",
   "metadata": {},
   "outputs": [],
   "source": [
    "def vali_fn(val_data_loader, model, device):\n",
    "    model.eval()\n",
    "    vali_loss = AverageMeter()\n",
    "    vali_mAP = AverageMeter()\n",
    "    # Custom\n",
    "    metric = gcv.metrics.VOCMApMetric(iou_thresh=0.5)\n",
    "    with torch.no_grad():\n",
    "        for images, targets, image_ids in tqdm(val_data_loader):\n",
    "            # gpu 계산을 위해 image.to(device)\n",
    "            images = torch.stack(images)\n",
    "            images = images.to(device).float()\n",
    "\n",
    "            current_batch_size = images.shape[0]\n",
    "\n",
    "            targets2 = {}\n",
    "            targets2['bbox'] = [target['boxes'].to(device).float() for target in targets] # variable number of instances, so the entire structure can be forced to tensor\n",
    "            targets2['cls'] = [target['labels'].to(device).float() for target in targets]\n",
    "            targets2['image_id'] = torch.tensor([target['image_id'] for target in targets]).to(device).float()\n",
    "            targets2['img_scale'] = torch.tensor([target['img_scale'] for target in targets]).to(device).float()\n",
    "            targets2['img_size'] = torch.tensor([(512, 512) for target in targets]).to(device).float()\n",
    "\n",
    "            outputs = model(images, targets2)\n",
    "\n",
    "            loss = outputs['loss']\n",
    "            det = outputs['detections']\n",
    "\n",
    "            # Calc Metric\n",
    "            for i in range(0, len(det)):\n",
    "                pred_scores=det[i, :, 4].cpu().unsqueeze_(0).numpy()\n",
    "                condition=(pred_scores > 0.05)[0]\n",
    "                gt_boxes=targets2['bbox'][i].cpu().unsqueeze_(0).numpy()[...,[1,0,3,2]] #move to PASCAL VOC from yxyx format\n",
    "                gt_labels=targets2['cls'][i].cpu().unsqueeze_(0).numpy()\n",
    "\n",
    "                pred_bboxes=det[i, :, 0:4].cpu().unsqueeze_(0).numpy()[:, condition, :]\n",
    "                pred_labels=det[i, :, 5].cpu().unsqueeze_(0).numpy()[:, condition]\n",
    "                pred_scores=pred_scores[:, condition]\n",
    "                metric.update(\n",
    "                  pred_bboxes=pred_bboxes,\n",
    "                  pred_labels=pred_labels,\n",
    "                  pred_scores=pred_scores,\n",
    "                  gt_bboxes=gt_boxes,\n",
    "                  gt_labels=gt_labels)\n",
    "\n",
    "            vali_mAP.update(metric.get()[1], current_batch_size)\n",
    "            vali_loss.update(loss.detach().item(), current_batch_size)\n",
    "    \n",
    "    # validation loss\n",
    "    return vali_loss.avg, vali_mAP.avg"
   ]
  },
  {
   "cell_type": "code",
   "execution_count": 10,
   "id": "567335d3-e000-4afc-802f-9f7b0e65a839",
   "metadata": {},
   "outputs": [],
   "source": [
    "# Model\n",
    "model = get_model()\n",
    "model.to(device)\n",
    "model.eval()\n",
    "# setting\n",
    "params = [p for p in model.parameters() if p.requires_grad]\n",
    "optimizer = torch.optim.AdamW(params, lr=learning_rate)\n",
    "scheduler = CosineAnnealingLR(optimizer, T_max=20, eta_min=1e-4)"
   ]
  },
  {
   "cell_type": "code",
   "execution_count": null,
   "id": "fd2f33b4-5d7a-484c-bfac-fefc5f30bd07",
   "metadata": {
    "collapsed": true,
    "jupyter": {
     "outputs_hidden": true
    },
    "tags": []
   },
   "outputs": [
    {
     "name": "stderr",
     "output_type": "stream",
     "text": [
      "\u001b[34m\u001b[1mwandb\u001b[0m: Currently logged in as: \u001b[33mjaeyeolso\u001b[0m (use `wandb login --relogin` to force relogin)\n"
     ]
    },
    {
     "data": {
      "text/html": [
       "\n",
       "                Tracking run with wandb version 0.10.30<br/>\n",
       "                Syncing run <strong style=\"color:#cdcd00\">magic-bee-11</strong> to <a href=\"https://wandb.ai\" target=\"_blank\">Weights & Biases</a> <a href=\"https://docs.wandb.com/integrations/jupyter.html\" target=\"_blank\">(Documentation)</a>.<br/>\n",
       "                Project page: <a href=\"https://wandb.ai/jaeyeolso/object_detection\" target=\"_blank\">https://wandb.ai/jaeyeolso/object_detection</a><br/>\n",
       "                Run page: <a href=\"https://wandb.ai/jaeyeolso/object_detection/runs/3x4j8l0d\" target=\"_blank\">https://wandb.ai/jaeyeolso/object_detection/runs/3x4j8l0d</a><br/>\n",
       "                Run data is saved locally in <code>/opt/ml/wandb/run-20210520_060118-3x4j8l0d</code><br/><br/>\n",
       "            "
      ],
      "text/plain": [
       "<IPython.core.display.HTML object>"
      ]
     },
     "metadata": {},
     "output_type": "display_data"
    },
    {
     "name": "stderr",
     "output_type": "stream",
     "text": [
      "100%|██████████| 546/546 [11:29<00:00,  1.26s/it]\n",
      "100%|██████████| 110/110 [00:56<00:00,  1.93it/s]\n"
     ]
    },
    {
     "name": "stdout",
     "output_type": "stream",
     "text": [
      "\n",
      "Epoch #1 train loss: [42.6484] train cls loss : [42.0276] train box loss : [0.0124] validation mAP : [0.0421] \n",
      "learning rate :[0.0002975452469668926] \n",
      "\n"
     ]
    },
    {
     "name": "stderr",
     "output_type": "stream",
     "text": [
      "  0%|          | 0/546 [00:00<?, ?it/s]"
     ]
    },
    {
     "name": "stdout",
     "output_type": "stream",
     "text": [
      "model is saved..\n"
     ]
    },
    {
     "name": "stderr",
     "output_type": "stream",
     "text": [
      "100%|██████████| 546/546 [11:24<00:00,  1.25s/it]\n",
      "100%|██████████| 110/110 [00:53<00:00,  2.07it/s]\n"
     ]
    },
    {
     "name": "stdout",
     "output_type": "stream",
     "text": [
      "\n",
      "Epoch #2 train loss: [1.0432] train cls loss : [0.6628] train box loss : [0.0076] validation mAP : [0.0948] \n",
      "learning rate :[0.00029150997930782414] \n",
      "\n"
     ]
    },
    {
     "name": "stderr",
     "output_type": "stream",
     "text": [
      "  0%|          | 0/546 [00:00<?, ?it/s]"
     ]
    },
    {
     "name": "stdout",
     "output_type": "stream",
     "text": [
      "model is saved..\n"
     ]
    },
    {
     "name": "stderr",
     "output_type": "stream",
     "text": [
      "100%|██████████| 546/546 [11:23<00:00,  1.25s/it]\n",
      "100%|██████████| 110/110 [00:52<00:00,  2.09it/s]\n"
     ]
    },
    {
     "name": "stdout",
     "output_type": "stream",
     "text": [
      "\n",
      "Epoch #3 train loss: [0.9235] train cls loss : [0.5880] train box loss : [0.0067] validation mAP : [0.1475] \n",
      "learning rate :[0.0002832804762269641] \n",
      "\n"
     ]
    },
    {
     "name": "stderr",
     "output_type": "stream",
     "text": [
      "  0%|          | 0/546 [00:00<?, ?it/s]"
     ]
    },
    {
     "name": "stdout",
     "output_type": "stream",
     "text": [
      "model is saved..\n"
     ]
    },
    {
     "name": "stderr",
     "output_type": "stream",
     "text": [
      "100%|██████████| 546/546 [11:25<00:00,  1.26s/it]\n",
      "100%|██████████| 110/110 [00:53<00:00,  2.07it/s]\n"
     ]
    },
    {
     "name": "stdout",
     "output_type": "stream",
     "text": [
      "\n",
      "Epoch #4 train loss: [0.8535] train cls loss : [0.5437] train box loss : [0.0062] validation mAP : [0.1651] \n",
      "learning rate :[0.000273058233489806] \n",
      "\n"
     ]
    },
    {
     "name": "stderr",
     "output_type": "stream",
     "text": [
      "  0%|          | 0/546 [00:00<?, ?it/s]"
     ]
    },
    {
     "name": "stdout",
     "output_type": "stream",
     "text": [
      "model is saved..\n"
     ]
    },
    {
     "name": "stderr",
     "output_type": "stream",
     "text": [
      "100%|██████████| 546/546 [11:24<00:00,  1.25s/it]\n",
      "100%|██████████| 110/110 [00:52<00:00,  2.08it/s]\n"
     ]
    },
    {
     "name": "stdout",
     "output_type": "stream",
     "text": [
      "\n",
      "Epoch #5 train loss: [0.8073] train cls loss : [0.5170] train box loss : [0.0058] validation mAP : [0.1964] \n",
      "learning rate :[0.0002610937637089483] \n",
      "\n"
     ]
    },
    {
     "name": "stderr",
     "output_type": "stream",
     "text": [
      "  0%|          | 0/546 [00:00<?, ?it/s]"
     ]
    },
    {
     "name": "stdout",
     "output_type": "stream",
     "text": [
      "model is saved..\n"
     ]
    },
    {
     "name": "stderr",
     "output_type": "stream",
     "text": [
      "100%|██████████| 546/546 [11:25<00:00,  1.25s/it]\n",
      "100%|██████████| 110/110 [00:52<00:00,  2.09it/s]\n"
     ]
    },
    {
     "name": "stdout",
     "output_type": "stream",
     "text": [
      "\n",
      "Epoch #6 train loss: [0.7676] train cls loss : [0.4926] train box loss : [0.0055] validation mAP : [0.2340] \n",
      "learning rate :[0.00024768039323499005] \n",
      "\n"
     ]
    },
    {
     "name": "stderr",
     "output_type": "stream",
     "text": [
      "  0%|          | 0/546 [00:00<?, ?it/s]"
     ]
    },
    {
     "name": "stdout",
     "output_type": "stream",
     "text": [
      "model is saved..\n"
     ]
    },
    {
     "name": "stderr",
     "output_type": "stream",
     "text": [
      "100%|██████████| 546/546 [11:28<00:00,  1.26s/it]\n",
      "100%|██████████| 110/110 [00:52<00:00,  2.11it/s]\n"
     ]
    },
    {
     "name": "stdout",
     "output_type": "stream",
     "text": [
      "\n",
      "Epoch #7 train loss: [0.7342] train cls loss : [0.4722] train box loss : [0.0052] validation mAP : [0.2554] \n",
      "learning rate :[0.0002331469964392539] \n",
      "\n"
     ]
    },
    {
     "name": "stderr",
     "output_type": "stream",
     "text": [
      "  0%|          | 0/546 [00:00<?, ?it/s]"
     ]
    },
    {
     "name": "stdout",
     "output_type": "stream",
     "text": [
      "model is saved..\n"
     ]
    },
    {
     "name": "stderr",
     "output_type": "stream",
     "text": [
      "100%|██████████| 546/546 [11:26<00:00,  1.26s/it]\n",
      "100%|██████████| 110/110 [00:53<00:00,  2.05it/s]\n"
     ]
    },
    {
     "name": "stdout",
     "output_type": "stream",
     "text": [
      "\n",
      "Epoch #8 train loss: [0.7102] train cls loss : [0.4583] train box loss : [0.0050] validation mAP : [0.2596] \n",
      "learning rate :[0.00021784984096315393] \n",
      "\n"
     ]
    },
    {
     "name": "stderr",
     "output_type": "stream",
     "text": [
      "  0%|          | 0/546 [00:00<?, ?it/s]"
     ]
    },
    {
     "name": "stdout",
     "output_type": "stream",
     "text": [
      "model is saved..\n"
     ]
    },
    {
     "name": "stderr",
     "output_type": "stream",
     "text": [
      "100%|██████████| 546/546 [11:26<00:00,  1.26s/it]\n",
      "100%|██████████| 110/110 [00:52<00:00,  2.09it/s]\n"
     ]
    },
    {
     "name": "stdout",
     "output_type": "stream",
     "text": [
      "\n",
      "Epoch #9 train loss: [0.6806] train cls loss : [0.4377] train box loss : [0.0049] validation mAP : [0.3059] \n",
      "learning rate :[0.000202163736428148] \n",
      "\n"
     ]
    },
    {
     "name": "stderr",
     "output_type": "stream",
     "text": [
      "  0%|          | 0/546 [00:00<?, ?it/s]"
     ]
    },
    {
     "name": "stdout",
     "output_type": "stream",
     "text": [
      "model is saved..\n"
     ]
    },
    {
     "name": "stderr",
     "output_type": "stream",
     "text": [
      "100%|██████████| 546/546 [11:21<00:00,  1.25s/it]\n",
      "100%|██████████| 110/110 [00:52<00:00,  2.08it/s]\n"
     ]
    },
    {
     "name": "stdout",
     "output_type": "stream",
     "text": [
      "\n",
      "Epoch #10 train loss: [0.6568] train cls loss : [0.4226] train box loss : [0.0047] validation mAP : [0.3299] \n",
      "learning rate :[0.00018647269086408732] \n",
      "\n"
     ]
    },
    {
     "name": "stderr",
     "output_type": "stream",
     "text": [
      "  0%|          | 0/546 [00:00<?, ?it/s]"
     ]
    },
    {
     "name": "stdout",
     "output_type": "stream",
     "text": [
      "model is saved..\n"
     ]
    },
    {
     "name": "stderr",
     "output_type": "stream",
     "text": [
      "100%|██████████| 546/546 [11:26<00:00,  1.26s/it]\n",
      "100%|██████████| 110/110 [00:52<00:00,  2.08it/s]\n"
     ]
    },
    {
     "name": "stdout",
     "output_type": "stream",
     "text": [
      "\n",
      "Epoch #11 train loss: [0.6314] train cls loss : [0.4064] train box loss : [0.0045] validation mAP : [0.3325] \n",
      "learning rate :[0.00017116028117719625] \n",
      "\n"
     ]
    },
    {
     "name": "stderr",
     "output_type": "stream",
     "text": [
      "  0%|          | 0/546 [00:00<?, ?it/s]"
     ]
    },
    {
     "name": "stdout",
     "output_type": "stream",
     "text": [
      "model is saved..\n"
     ]
    },
    {
     "name": "stderr",
     "output_type": "stream",
     "text": [
      "100%|██████████| 546/546 [11:23<00:00,  1.25s/it]\n",
      "100%|██████████| 110/110 [00:52<00:00,  2.11it/s]\n"
     ]
    },
    {
     "name": "stdout",
     "output_type": "stream",
     "text": [
      "\n",
      "Epoch #12 train loss: [0.6089] train cls loss : [0.3943] train box loss : [0.0043] validation mAP : [0.3758] \n",
      "learning rate :[0.0001565999313954194] \n",
      "\n"
     ]
    },
    {
     "name": "stderr",
     "output_type": "stream",
     "text": [
      "  0%|          | 0/546 [00:00<?, ?it/s]"
     ]
    },
    {
     "name": "stdout",
     "output_type": "stream",
     "text": [
      "model is saved..\n"
     ]
    },
    {
     "name": "stderr",
     "output_type": "stream",
     "text": [
      "100%|██████████| 546/546 [11:25<00:00,  1.25s/it]\n",
      "100%|██████████| 110/110 [00:52<00:00,  2.11it/s]\n"
     ]
    },
    {
     "name": "stdout",
     "output_type": "stream",
     "text": [
      "\n",
      "Epoch #13 train loss: [0.5878] train cls loss : [0.3800] train box loss : [0.0042] validation mAP : [0.3878] \n",
      "learning rate :[0.0001431452542172133] \n",
      "\n"
     ]
    },
    {
     "name": "stderr",
     "output_type": "stream",
     "text": [
      "  0%|          | 0/546 [00:00<?, ?it/s]"
     ]
    },
    {
     "name": "stdout",
     "output_type": "stream",
     "text": [
      "model is saved..\n"
     ]
    },
    {
     "name": "stderr",
     "output_type": "stream",
     "text": [
      "100%|██████████| 546/546 [11:25<00:00,  1.25s/it]\n",
      "100%|██████████| 110/110 [00:51<00:00,  2.14it/s]\n"
     ]
    },
    {
     "name": "stdout",
     "output_type": "stream",
     "text": [
      "\n",
      "Epoch #14 train loss: [0.5691] train cls loss : [0.3671] train box loss : [0.0040] validation mAP : [0.4356] \n",
      "learning rate :[0.0001311205204573411] \n",
      "\n"
     ]
    },
    {
     "name": "stderr",
     "output_type": "stream",
     "text": [
      "  0%|          | 0/546 [00:00<?, ?it/s]"
     ]
    },
    {
     "name": "stdout",
     "output_type": "stream",
     "text": [
      "model is saved..\n"
     ]
    },
    {
     "name": "stderr",
     "output_type": "stream",
     "text": [
      "100%|██████████| 546/546 [11:25<00:00,  1.25s/it]\n",
      "100%|██████████| 110/110 [00:51<00:00,  2.14it/s]\n"
     ]
    },
    {
     "name": "stdout",
     "output_type": "stream",
     "text": [
      "\n",
      "Epoch #15 train loss: [0.5542] train cls loss : [0.3576] train box loss : [0.0039] validation mAP : [0.4620] \n",
      "learning rate :[0.00012081110346099795] \n",
      "\n"
     ]
    },
    {
     "name": "stderr",
     "output_type": "stream",
     "text": [
      "  0%|          | 0/546 [00:00<?, ?it/s]"
     ]
    },
    {
     "name": "stdout",
     "output_type": "stream",
     "text": [
      "model is saved..\n"
     ]
    },
    {
     "name": "stderr",
     "output_type": "stream",
     "text": [
      "100%|██████████| 546/546 [11:25<00:00,  1.26s/it]\n",
      "100%|██████████| 110/110 [00:51<00:00,  2.15it/s]\n"
     ]
    },
    {
     "name": "stdout",
     "output_type": "stream",
     "text": [
      "\n",
      "Epoch #16 train loss: [0.5281] train cls loss : [0.3405] train box loss : [0.0038] validation mAP : [0.5102] \n",
      "learning rate :[0.00011245317613884739] \n",
      "\n"
     ]
    },
    {
     "name": "stderr",
     "output_type": "stream",
     "text": [
      "  0%|          | 0/546 [00:00<?, ?it/s]"
     ]
    },
    {
     "name": "stdout",
     "output_type": "stream",
     "text": [
      "model is saved..\n"
     ]
    },
    {
     "name": "stderr",
     "output_type": "stream",
     "text": [
      "100%|██████████| 546/546 [11:28<00:00,  1.26s/it]\n",
      "100%|██████████| 110/110 [00:50<00:00,  2.16it/s]\n",
      "  0%|          | 0/546 [00:00<?, ?it/s]"
     ]
    },
    {
     "name": "stdout",
     "output_type": "stream",
     "text": [
      "\n",
      "Epoch #17 train loss: [0.5178] train cls loss : [0.3321] train box loss : [0.0037] validation mAP : [0.4858] \n",
      "learning rate :[0.0001062202276745102] \n",
      "\n"
     ]
    },
    {
     "name": "stderr",
     "output_type": "stream",
     "text": [
      "100%|██████████| 546/546 [11:23<00:00,  1.25s/it]\n",
      "100%|██████████| 110/110 [00:50<00:00,  2.19it/s]\n"
     ]
    },
    {
     "name": "stdout",
     "output_type": "stream",
     "text": [
      "\n",
      "Epoch #18 train loss: [0.4990] train cls loss : [0.3220] train box loss : [0.0035] validation mAP : [0.5372] \n",
      "learning rate :[0.00010219780549186865] \n",
      "\n"
     ]
    },
    {
     "name": "stderr",
     "output_type": "stream",
     "text": [
      "  0%|          | 0/546 [00:00<?, ?it/s]"
     ]
    },
    {
     "name": "stdout",
     "output_type": "stream",
     "text": [
      "model is saved..\n"
     ]
    },
    {
     "name": "stderr",
     "output_type": "stream",
     "text": [
      "100%|██████████| 546/546 [11:27<00:00,  1.26s/it]\n",
      "100%|██████████| 110/110 [00:51<00:00,  2.13it/s]\n"
     ]
    },
    {
     "name": "stdout",
     "output_type": "stream",
     "text": [
      "\n",
      "Epoch #19 train loss: [0.4858] train cls loss : [0.3139] train box loss : [0.0034] validation mAP : [0.5476] \n",
      "learning rate :[0.00010030969793285542] \n",
      "\n"
     ]
    },
    {
     "name": "stderr",
     "output_type": "stream",
     "text": [
      "  0%|          | 0/546 [00:00<?, ?it/s]"
     ]
    },
    {
     "name": "stdout",
     "output_type": "stream",
     "text": [
      "model is saved..\n"
     ]
    },
    {
     "name": "stderr",
     "output_type": "stream",
     "text": [
      " 40%|████      | 219/546 [04:39<06:53,  1.27s/it]\u001b[34m\u001b[1mwandb\u001b[0m: Network error resolved after 0:01:01.623655, resuming normal operation.\n",
      "100%|██████████| 546/546 [11:31<00:00,  1.27s/it]\n",
      "100%|██████████| 110/110 [00:50<00:00,  2.20it/s]\n"
     ]
    },
    {
     "name": "stdout",
     "output_type": "stream",
     "text": [
      "\n",
      "Epoch #20 train loss: [0.4736] train cls loss : [0.3047] train box loss : [0.0034] validation mAP : [0.5951] \n",
      "learning rate :[0.0001] \n",
      "\n"
     ]
    },
    {
     "name": "stderr",
     "output_type": "stream",
     "text": [
      "  0%|          | 0/546 [00:00<?, ?it/s]"
     ]
    },
    {
     "name": "stdout",
     "output_type": "stream",
     "text": [
      "model is saved..\n"
     ]
    },
    {
     "name": "stderr",
     "output_type": "stream",
     "text": [
      "100%|██████████| 546/546 [11:18<00:00,  1.24s/it]\n",
      "100%|██████████| 110/110 [00:49<00:00,  2.23it/s]\n",
      "  0%|          | 0/546 [00:00<?, ?it/s]"
     ]
    },
    {
     "name": "stdout",
     "output_type": "stream",
     "text": [
      "\n",
      "Epoch #21 train loss: [0.4586] train cls loss : [0.2955] train box loss : [0.0033] validation mAP : [0.5607] \n",
      "learning rate :[0.00010246233188097245] \n",
      "\n"
     ]
    },
    {
     "name": "stderr",
     "output_type": "stream",
     "text": [
      "100%|██████████| 546/546 [11:18<00:00,  1.24s/it]\n",
      "100%|██████████| 110/110 [00:49<00:00,  2.22it/s]\n"
     ]
    },
    {
     "name": "stdout",
     "output_type": "stream",
     "text": [
      "\n",
      "Epoch #22 train loss: [0.4538] train cls loss : [0.2927] train box loss : [0.0032] validation mAP : [0.6188] \n",
      "learning rate :[0.0001194568783816462] \n",
      "\n"
     ]
    },
    {
     "name": "stderr",
     "output_type": "stream",
     "text": [
      "  0%|          | 0/546 [00:00<?, ?it/s]"
     ]
    },
    {
     "name": "stdout",
     "output_type": "stream",
     "text": [
      "model is saved..\n"
     ]
    },
    {
     "name": "stderr",
     "output_type": "stream",
     "text": [
      "100%|██████████| 546/546 [11:19<00:00,  1.24s/it]\n",
      "100%|██████████| 110/110 [00:49<00:00,  2.20it/s]\n",
      "  0%|          | 0/546 [00:00<?, ?it/s]"
     ]
    },
    {
     "name": "stdout",
     "output_type": "stream",
     "text": [
      "\n",
      "Epoch #23 train loss: [0.4445] train cls loss : [0.2859] train box loss : [0.0032] validation mAP : [0.6074] \n",
      "learning rate :[0.00012427203147438512] \n",
      "\n"
     ]
    },
    {
     "name": "stderr",
     "output_type": "stream",
     "text": [
      " 11%|█         | 59/546 [01:13<10:04,  1.24s/it]"
     ]
    }
   ],
   "source": [
    "import wandb\n",
    "wandb.init(project=\"object_detection\")\n",
    "wandb.run.name = 'effidet_alld_aug_b6'\n",
    "train_fn(model, train_data_loader, val_data_loader, optimizer, scheduler, device)"
   ]
  },
  {
   "cell_type": "code",
   "execution_count": null,
   "id": "8c808b07-6c6c-4460-bc4f-c30ff622a128",
   "metadata": {},
   "outputs": [],
   "source": []
  },
  {
   "cell_type": "code",
   "execution_count": 21,
   "id": "95d90c1f-3c3d-4d2e-a8b2-e1dd0d46d1da",
   "metadata": {
    "collapsed": true,
    "jupyter": {
     "outputs_hidden": true
    },
    "tags": []
   },
   "outputs": [
    {
     "name": "stderr",
     "output_type": "stream",
     "text": [
      "100%|██████████| 219/219 [05:01<00:00,  1.38s/it]\n",
      "100%|██████████| 55/55 [00:30<00:00,  1.81it/s]\n"
     ]
    },
    {
     "name": "stdout",
     "output_type": "stream",
     "text": [
      "\n",
      "Epoch #1 train loss: [0.3044] train cls loss : [0.1998] train box loss : [0.0021] validation mAP : [0.2210]\n",
      "learning rate :[0.00029033107648888907] \n",
      "\n"
     ]
    },
    {
     "name": "stderr",
     "output_type": "stream",
     "text": [
      "  0%|          | 0/219 [00:00<?, ?it/s]"
     ]
    },
    {
     "name": "stdout",
     "output_type": "stream",
     "text": [
      "model is saved..\n"
     ]
    },
    {
     "name": "stderr",
     "output_type": "stream",
     "text": [
      "100%|██████████| 219/219 [05:01<00:00,  1.38s/it]\n",
      "100%|██████████| 55/55 [00:30<00:00,  1.79it/s]\n"
     ]
    },
    {
     "name": "stdout",
     "output_type": "stream",
     "text": [
      "\n",
      "Epoch #2 train loss: [0.2966] train cls loss : [0.1958] train box loss : [0.0020] validation mAP : [0.2508]\n",
      "learning rate :[0.00026773181394824865] \n",
      "\n"
     ]
    },
    {
     "name": "stderr",
     "output_type": "stream",
     "text": [
      "  0%|          | 0/219 [00:00<?, ?it/s]"
     ]
    },
    {
     "name": "stdout",
     "output_type": "stream",
     "text": [
      "model is saved..\n"
     ]
    },
    {
     "name": "stderr",
     "output_type": "stream",
     "text": [
      "100%|██████████| 219/219 [05:01<00:00,  1.38s/it]\n",
      "100%|██████████| 55/55 [00:31<00:00,  1.77it/s]\n"
     ]
    },
    {
     "name": "stdout",
     "output_type": "stream",
     "text": [
      "\n",
      "Epoch #3 train loss: [0.2609] train cls loss : [0.1698] train box loss : [0.0018] validation mAP : [0.2574]\n",
      "learning rate :[0.00023936088025909076] \n",
      "\n"
     ]
    },
    {
     "name": "stderr",
     "output_type": "stream",
     "text": [
      "  0%|          | 0/219 [00:00<?, ?it/s]"
     ]
    },
    {
     "name": "stdout",
     "output_type": "stream",
     "text": [
      "model is saved..\n"
     ]
    },
    {
     "name": "stderr",
     "output_type": "stream",
     "text": [
      "100%|██████████| 219/219 [05:01<00:00,  1.38s/it]\n",
      "100%|██████████| 55/55 [00:30<00:00,  1.79it/s]\n"
     ]
    },
    {
     "name": "stdout",
     "output_type": "stream",
     "text": [
      "\n",
      "Epoch #4 train loss: [0.2254] train cls loss : [0.1462] train box loss : [0.0016] validation mAP : [0.2631]\n",
      "learning rate :[0.00020791922201622684] \n",
      "\n"
     ]
    },
    {
     "name": "stderr",
     "output_type": "stream",
     "text": [
      "  0%|          | 0/219 [00:00<?, ?it/s]"
     ]
    },
    {
     "name": "stdout",
     "output_type": "stream",
     "text": [
      "model is saved..\n"
     ]
    },
    {
     "name": "stderr",
     "output_type": "stream",
     "text": [
      "100%|██████████| 219/219 [05:02<00:00,  1.38s/it]\n",
      "100%|██████████| 55/55 [00:30<00:00,  1.79it/s]\n"
     ]
    },
    {
     "name": "stdout",
     "output_type": "stream",
     "text": [
      "\n",
      "Epoch #5 train loss: [0.2124] train cls loss : [0.1363] train box loss : [0.0015] validation mAP : [0.2637]\n",
      "learning rate :[0.00017639320225002104] \n",
      "\n"
     ]
    },
    {
     "name": "stderr",
     "output_type": "stream",
     "text": [
      "  0%|          | 0/219 [00:00<?, ?it/s]"
     ]
    },
    {
     "name": "stdout",
     "output_type": "stream",
     "text": [
      "model is saved..\n"
     ]
    },
    {
     "name": "stderr",
     "output_type": "stream",
     "text": [
      "100%|██████████| 219/219 [05:01<00:00,  1.38s/it]\n",
      "100%|██████████| 55/55 [00:31<00:00,  1.77it/s]\n"
     ]
    },
    {
     "name": "stdout",
     "output_type": "stream",
     "text": [
      "\n",
      "Epoch #6 train loss: [0.1903] train cls loss : [0.1237] train box loss : [0.0013] validation mAP : [0.3254]\n",
      "learning rate :[0.00014774575140626318] \n",
      "\n"
     ]
    },
    {
     "name": "stderr",
     "output_type": "stream",
     "text": [
      "  0%|          | 0/219 [00:00<?, ?it/s]"
     ]
    },
    {
     "name": "stdout",
     "output_type": "stream",
     "text": [
      "model is saved..\n"
     ]
    },
    {
     "name": "stderr",
     "output_type": "stream",
     "text": [
      "100%|██████████| 219/219 [05:01<00:00,  1.38s/it]\n",
      "100%|██████████| 55/55 [00:30<00:00,  1.82it/s]\n",
      "  0%|          | 0/219 [00:00<?, ?it/s]"
     ]
    },
    {
     "name": "stdout",
     "output_type": "stream",
     "text": [
      "\n",
      "Epoch #7 train loss: [0.1691] train cls loss : [0.1086] train box loss : [0.0012] validation mAP : [0.3198]\n",
      "learning rate :[0.00012459119787958784] \n",
      "\n"
     ]
    },
    {
     "name": "stderr",
     "output_type": "stream",
     "text": [
      "100%|██████████| 219/219 [05:01<00:00,  1.38s/it]\n",
      "100%|██████████| 55/55 [00:30<00:00,  1.80it/s]\n",
      "  0%|          | 0/219 [00:00<?, ?it/s]"
     ]
    },
    {
     "name": "stdout",
     "output_type": "stream",
     "text": [
      "\n",
      "Epoch #8 train loss: [0.1537] train cls loss : [0.0985] train box loss : [0.0011] validation mAP : [0.3125]\n",
      "learning rate :[0.00010884842394417634] \n",
      "\n"
     ]
    },
    {
     "name": "stderr",
     "output_type": "stream",
     "text": [
      "100%|██████████| 219/219 [05:01<00:00,  1.38s/it]\n",
      "100%|██████████| 55/55 [00:30<00:00,  1.80it/s]\n",
      "  0%|          | 0/219 [00:00<?, ?it/s]"
     ]
    },
    {
     "name": "stdout",
     "output_type": "stream",
     "text": [
      "\n",
      "Epoch #9 train loss: [0.1436] train cls loss : [0.0917] train box loss : [0.0010] validation mAP : [0.3169]\n",
      "learning rate :[0.00010125428154684583] \n",
      "\n"
     ]
    },
    {
     "name": "stderr",
     "output_type": "stream",
     "text": [
      "100%|██████████| 219/219 [05:02<00:00,  1.38s/it]\n",
      "100%|██████████| 55/55 [00:30<00:00,  1.80it/s]\n"
     ]
    },
    {
     "name": "stdout",
     "output_type": "stream",
     "text": [
      "\n",
      "Epoch #10 train loss: [0.1413] train cls loss : [0.0904] train box loss : [0.0010] validation mAP : [0.3289]\n",
      "learning rate :[0.0001] \n",
      "\n"
     ]
    },
    {
     "name": "stderr",
     "output_type": "stream",
     "text": [
      "  0%|          | 0/219 [00:00<?, ?it/s]"
     ]
    },
    {
     "name": "stdout",
     "output_type": "stream",
     "text": [
      "model is saved..\n"
     ]
    },
    {
     "name": "stderr",
     "output_type": "stream",
     "text": [
      "100%|██████████| 219/219 [05:01<00:00,  1.38s/it]\n",
      "100%|██████████| 55/55 [00:30<00:00,  1.82it/s]\n",
      "  0%|          | 0/219 [00:00<?, ?it/s]"
     ]
    },
    {
     "name": "stdout",
     "output_type": "stream",
     "text": [
      "\n",
      "Epoch #11 train loss: [0.1319] train cls loss : [0.0838] train box loss : [0.0010] validation mAP : [0.3216]\n",
      "learning rate :[0.00010978869674096931] \n",
      "\n"
     ]
    },
    {
     "name": "stderr",
     "output_type": "stream",
     "text": [
      "100%|██████████| 219/219 [05:01<00:00,  1.38s/it]\n",
      "100%|██████████| 55/55 [00:30<00:00,  1.82it/s]\n",
      "  0%|          | 0/219 [00:00<?, ?it/s]"
     ]
    },
    {
     "name": "stdout",
     "output_type": "stream",
     "text": [
      "\n",
      "Epoch #12 train loss: [0.1323] train cls loss : [0.0842] train box loss : [0.0010] validation mAP : [0.3281]\n",
      "learning rate :[0.0001745237275252791] \n",
      "\n"
     ]
    },
    {
     "name": "stderr",
     "output_type": "stream",
     "text": [
      "100%|██████████| 219/219 [05:01<00:00,  1.38s/it]\n",
      "100%|██████████| 55/55 [00:29<00:00,  1.84it/s]\n",
      "  0%|          | 0/219 [00:00<?, ?it/s]"
     ]
    },
    {
     "name": "stdout",
     "output_type": "stream",
     "text": [
      "\n",
      "Epoch #13 train loss: [0.1273] train cls loss : [0.0805] train box loss : [0.0009] validation mAP : [0.2946]\n",
      "learning rate :[0.00018897178975242352] \n",
      "\n"
     ]
    },
    {
     "name": "stderr",
     "output_type": "stream",
     "text": [
      "100%|██████████| 219/219 [05:01<00:00,  1.38s/it]\n",
      "100%|██████████| 55/55 [00:30<00:00,  1.79it/s]\n",
      "  0%|          | 0/219 [00:00<?, ?it/s]"
     ]
    },
    {
     "name": "stdout",
     "output_type": "stream",
     "text": [
      "\n",
      "Epoch #14 train loss: [0.1389] train cls loss : [0.0884] train box loss : [0.0010] validation mAP : [0.2589]\n",
      "learning rate :[0.0002158273731636108] \n",
      "\n"
     ]
    },
    {
     "name": "stderr",
     "output_type": "stream",
     "text": [
      " 15%|█▌        | 33/219 [00:47<04:30,  1.45s/it]\n"
     ]
    },
    {
     "ename": "KeyboardInterrupt",
     "evalue": "",
     "output_type": "error",
     "traceback": [
      "\u001b[0;31m---------------------------------------------------------------------------\u001b[0m",
      "\u001b[0;31mKeyboardInterrupt\u001b[0m                         Traceback (most recent call last)",
      "\u001b[0;32m<ipython-input-21-1ae7e41d863d>\u001b[0m in \u001b[0;36m<module>\u001b[0;34m\u001b[0m\n\u001b[1;32m      1\u001b[0m \u001b[0mscheduler\u001b[0m \u001b[0;34m=\u001b[0m \u001b[0mCosineAnnealingLR\u001b[0m\u001b[0;34m(\u001b[0m\u001b[0moptimizer\u001b[0m\u001b[0;34m,\u001b[0m \u001b[0mT_max\u001b[0m\u001b[0;34m=\u001b[0m\u001b[0;36m10\u001b[0m\u001b[0;34m,\u001b[0m \u001b[0meta_min\u001b[0m\u001b[0;34m=\u001b[0m\u001b[0;36m1e-4\u001b[0m\u001b[0;34m)\u001b[0m\u001b[0;34m\u001b[0m\u001b[0;34m\u001b[0m\u001b[0m\n\u001b[0;32m----> 2\u001b[0;31m \u001b[0mtrain_fn\u001b[0m\u001b[0;34m(\u001b[0m\u001b[0mmodel\u001b[0m\u001b[0;34m,\u001b[0m \u001b[0mtrain_data_loader\u001b[0m\u001b[0;34m,\u001b[0m \u001b[0mval_data_loader\u001b[0m\u001b[0;34m,\u001b[0m \u001b[0moptimizer\u001b[0m\u001b[0;34m,\u001b[0m \u001b[0mscheduler\u001b[0m\u001b[0;34m,\u001b[0m \u001b[0mdevice\u001b[0m\u001b[0;34m)\u001b[0m\u001b[0;34m\u001b[0m\u001b[0;34m\u001b[0m\u001b[0m\n\u001b[0m",
      "\u001b[0;32m<ipython-input-16-68d63245cda6>\u001b[0m in \u001b[0;36mtrain_fn\u001b[0;34m(model, train_data_loader, val_data_loader, optimizer, scheduler, device)\u001b[0m\n\u001b[1;32m     35\u001b[0m             \u001b[0mlosses\u001b[0m\u001b[0;34m.\u001b[0m\u001b[0mbackward\u001b[0m\u001b[0;34m(\u001b[0m\u001b[0;34m)\u001b[0m\u001b[0;34m\u001b[0m\u001b[0;34m\u001b[0m\u001b[0m\n\u001b[1;32m     36\u001b[0m             \u001b[0mtorch\u001b[0m\u001b[0;34m.\u001b[0m\u001b[0mnn\u001b[0m\u001b[0;34m.\u001b[0m\u001b[0mutils\u001b[0m\u001b[0;34m.\u001b[0m\u001b[0mclip_grad_norm_\u001b[0m\u001b[0;34m(\u001b[0m\u001b[0mmodel\u001b[0m\u001b[0;34m.\u001b[0m\u001b[0mparameters\u001b[0m\u001b[0;34m(\u001b[0m\u001b[0;34m)\u001b[0m\u001b[0;34m,\u001b[0m \u001b[0;36m10.0\u001b[0m\u001b[0;34m)\u001b[0m\u001b[0;34m\u001b[0m\u001b[0;34m\u001b[0m\u001b[0m\n\u001b[0;32m---> 37\u001b[0;31m             \u001b[0moptimizer\u001b[0m\u001b[0;34m.\u001b[0m\u001b[0mstep\u001b[0m\u001b[0;34m(\u001b[0m\u001b[0;34m)\u001b[0m\u001b[0;34m\u001b[0m\u001b[0;34m\u001b[0m\u001b[0m\n\u001b[0m\u001b[1;32m     38\u001b[0m         \u001b[0mscheduler\u001b[0m\u001b[0;34m.\u001b[0m\u001b[0mstep\u001b[0m\u001b[0;34m(\u001b[0m\u001b[0;34m)\u001b[0m\u001b[0;34m\u001b[0m\u001b[0;34m\u001b[0m\u001b[0m\n\u001b[1;32m     39\u001b[0m \u001b[0;34m\u001b[0m\u001b[0m\n",
      "\u001b[0;32m/opt/conda/lib/python3.7/site-packages/torch/optim/lr_scheduler.py\u001b[0m in \u001b[0;36mwrapper\u001b[0;34m(*args, **kwargs)\u001b[0m\n\u001b[1;32m     65\u001b[0m                 \u001b[0minstance\u001b[0m\u001b[0;34m.\u001b[0m\u001b[0m_step_count\u001b[0m \u001b[0;34m+=\u001b[0m \u001b[0;36m1\u001b[0m\u001b[0;34m\u001b[0m\u001b[0;34m\u001b[0m\u001b[0m\n\u001b[1;32m     66\u001b[0m                 \u001b[0mwrapped\u001b[0m \u001b[0;34m=\u001b[0m \u001b[0mfunc\u001b[0m\u001b[0;34m.\u001b[0m\u001b[0m__get__\u001b[0m\u001b[0;34m(\u001b[0m\u001b[0minstance\u001b[0m\u001b[0;34m,\u001b[0m \u001b[0mcls\u001b[0m\u001b[0;34m)\u001b[0m\u001b[0;34m\u001b[0m\u001b[0;34m\u001b[0m\u001b[0m\n\u001b[0;32m---> 67\u001b[0;31m                 \u001b[0;32mreturn\u001b[0m \u001b[0mwrapped\u001b[0m\u001b[0;34m(\u001b[0m\u001b[0;34m*\u001b[0m\u001b[0margs\u001b[0m\u001b[0;34m,\u001b[0m \u001b[0;34m**\u001b[0m\u001b[0mkwargs\u001b[0m\u001b[0;34m)\u001b[0m\u001b[0;34m\u001b[0m\u001b[0;34m\u001b[0m\u001b[0m\n\u001b[0m\u001b[1;32m     68\u001b[0m \u001b[0;34m\u001b[0m\u001b[0m\n\u001b[1;32m     69\u001b[0m             \u001b[0;31m# Note that the returned function here is no longer a bound method,\u001b[0m\u001b[0;34m\u001b[0m\u001b[0;34m\u001b[0m\u001b[0;34m\u001b[0m\u001b[0m\n",
      "\u001b[0;32m/opt/conda/lib/python3.7/site-packages/torch/autograd/grad_mode.py\u001b[0m in \u001b[0;36mdecorate_context\u001b[0;34m(*args, **kwargs)\u001b[0m\n\u001b[1;32m     13\u001b[0m         \u001b[0;32mdef\u001b[0m \u001b[0mdecorate_context\u001b[0m\u001b[0;34m(\u001b[0m\u001b[0;34m*\u001b[0m\u001b[0margs\u001b[0m\u001b[0;34m,\u001b[0m \u001b[0;34m**\u001b[0m\u001b[0mkwargs\u001b[0m\u001b[0;34m)\u001b[0m\u001b[0;34m:\u001b[0m\u001b[0;34m\u001b[0m\u001b[0;34m\u001b[0m\u001b[0m\n\u001b[1;32m     14\u001b[0m             \u001b[0;32mwith\u001b[0m \u001b[0mself\u001b[0m\u001b[0;34m:\u001b[0m\u001b[0;34m\u001b[0m\u001b[0;34m\u001b[0m\u001b[0m\n\u001b[0;32m---> 15\u001b[0;31m                 \u001b[0;32mreturn\u001b[0m \u001b[0mfunc\u001b[0m\u001b[0;34m(\u001b[0m\u001b[0;34m*\u001b[0m\u001b[0margs\u001b[0m\u001b[0;34m,\u001b[0m \u001b[0;34m**\u001b[0m\u001b[0mkwargs\u001b[0m\u001b[0;34m)\u001b[0m\u001b[0;34m\u001b[0m\u001b[0;34m\u001b[0m\u001b[0m\n\u001b[0m\u001b[1;32m     16\u001b[0m         \u001b[0;32mreturn\u001b[0m \u001b[0mdecorate_context\u001b[0m\u001b[0;34m\u001b[0m\u001b[0;34m\u001b[0m\u001b[0m\n\u001b[1;32m     17\u001b[0m \u001b[0;34m\u001b[0m\u001b[0m\n",
      "\u001b[0;32m/opt/conda/lib/python3.7/site-packages/torch/optim/adamw.py\u001b[0m in \u001b[0;36mstep\u001b[0;34m(self, closure)\u001b[0m\n\u001b[1;32m    102\u001b[0m \u001b[0;34m\u001b[0m\u001b[0m\n\u001b[1;32m    103\u001b[0m                 \u001b[0;31m# Decay the first and second moment running average coefficient\u001b[0m\u001b[0;34m\u001b[0m\u001b[0;34m\u001b[0m\u001b[0;34m\u001b[0m\u001b[0m\n\u001b[0;32m--> 104\u001b[0;31m                 \u001b[0mexp_avg\u001b[0m\u001b[0;34m.\u001b[0m\u001b[0mmul_\u001b[0m\u001b[0;34m(\u001b[0m\u001b[0mbeta1\u001b[0m\u001b[0;34m)\u001b[0m\u001b[0;34m.\u001b[0m\u001b[0madd_\u001b[0m\u001b[0;34m(\u001b[0m\u001b[0mgrad\u001b[0m\u001b[0;34m,\u001b[0m \u001b[0malpha\u001b[0m\u001b[0;34m=\u001b[0m\u001b[0;36m1\u001b[0m \u001b[0;34m-\u001b[0m \u001b[0mbeta1\u001b[0m\u001b[0;34m)\u001b[0m\u001b[0;34m\u001b[0m\u001b[0;34m\u001b[0m\u001b[0m\n\u001b[0m\u001b[1;32m    105\u001b[0m                 \u001b[0mexp_avg_sq\u001b[0m\u001b[0;34m.\u001b[0m\u001b[0mmul_\u001b[0m\u001b[0;34m(\u001b[0m\u001b[0mbeta2\u001b[0m\u001b[0;34m)\u001b[0m\u001b[0;34m.\u001b[0m\u001b[0maddcmul_\u001b[0m\u001b[0;34m(\u001b[0m\u001b[0mgrad\u001b[0m\u001b[0;34m,\u001b[0m \u001b[0mgrad\u001b[0m\u001b[0;34m,\u001b[0m \u001b[0mvalue\u001b[0m\u001b[0;34m=\u001b[0m\u001b[0;36m1\u001b[0m \u001b[0;34m-\u001b[0m \u001b[0mbeta2\u001b[0m\u001b[0;34m)\u001b[0m\u001b[0;34m\u001b[0m\u001b[0;34m\u001b[0m\u001b[0m\n\u001b[1;32m    106\u001b[0m                 \u001b[0;32mif\u001b[0m \u001b[0mamsgrad\u001b[0m\u001b[0;34m:\u001b[0m\u001b[0;34m\u001b[0m\u001b[0;34m\u001b[0m\u001b[0m\n",
      "\u001b[0;31mKeyboardInterrupt\u001b[0m: "
     ]
    }
   ],
   "source": [
    "scheduler = CosineAnnealingLR(optimizer, T_max=10, eta_min=1e-4)\n",
    "train_fn(model, train_data_loader, val_data_loader, optimizer, scheduler, device)"
   ]
  },
  {
   "cell_type": "code",
   "execution_count": 13,
   "id": "978bad3e-c6e9-48a1-b5b5-fb3be4dcbfc5",
   "metadata": {
    "collapsed": true,
    "jupyter": {
     "outputs_hidden": true
    },
    "tags": []
   },
   "outputs": [
    {
     "data": {
      "text/html": [
       "Finishing last run (ID:3h2y2fdd) before initializing another..."
      ],
      "text/plain": [
       "<IPython.core.display.HTML object>"
      ]
     },
     "metadata": {},
     "output_type": "display_data"
    },
    {
     "data": {
      "text/html": [
       "<br/>Waiting for W&B process to finish, PID 29236<br/>Program ended successfully."
      ],
      "text/plain": [
       "<IPython.core.display.HTML object>"
      ]
     },
     "metadata": {},
     "output_type": "display_data"
    },
    {
     "data": {
      "application/vnd.jupyter.widget-view+json": {
       "model_id": "",
       "version_major": 2,
       "version_minor": 0
      },
      "text/plain": [
       "VBox(children=(Label(value=' 0.00MB of 0.00MB uploaded (0.00MB deduped)\\r'), FloatProgress(value=1.0, max=1.0)…"
      ]
     },
     "metadata": {},
     "output_type": "display_data"
    },
    {
     "data": {
      "text/html": [
       "Find user logs for this run at: <code>/opt/ml/wandb/run-20210519_115419-3h2y2fdd/logs/debug.log</code>"
      ],
      "text/plain": [
       "<IPython.core.display.HTML object>"
      ]
     },
     "metadata": {},
     "output_type": "display_data"
    },
    {
     "data": {
      "text/html": [
       "Find internal logs for this run at: <code>/opt/ml/wandb/run-20210519_115419-3h2y2fdd/logs/debug-internal.log</code>"
      ],
      "text/plain": [
       "<IPython.core.display.HTML object>"
      ]
     },
     "metadata": {},
     "output_type": "display_data"
    },
    {
     "data": {
      "text/html": [
       "Synced 5 W&B file(s), 0 media file(s), 0 artifact file(s) and 0 other file(s)"
      ],
      "text/plain": [
       "<IPython.core.display.HTML object>"
      ]
     },
     "metadata": {},
     "output_type": "display_data"
    },
    {
     "data": {
      "text/html": [
       "\n",
       "                    <br/>Synced <strong style=\"color:#cdcd00\">young-vortex-4</strong>: <a href=\"https://wandb.ai/jaeyeolso/object_detection/runs/3h2y2fdd\" target=\"_blank\">https://wandb.ai/jaeyeolso/object_detection/runs/3h2y2fdd</a><br/>\n",
       "                "
      ],
      "text/plain": [
       "<IPython.core.display.HTML object>"
      ]
     },
     "metadata": {},
     "output_type": "display_data"
    },
    {
     "data": {
      "text/html": [
       "...Successfully finished last run (ID:3h2y2fdd). Initializing new run:<br/><br/>"
      ],
      "text/plain": [
       "<IPython.core.display.HTML object>"
      ]
     },
     "metadata": {},
     "output_type": "display_data"
    },
    {
     "data": {
      "text/html": [
       "\n",
       "                Tracking run with wandb version 0.10.30<br/>\n",
       "                Syncing run <strong style=\"color:#cdcd00\">fanciful-music-5</strong> to <a href=\"https://wandb.ai\" target=\"_blank\">Weights & Biases</a> <a href=\"https://docs.wandb.com/integrations/jupyter.html\" target=\"_blank\">(Documentation)</a>.<br/>\n",
       "                Project page: <a href=\"https://wandb.ai/jaeyeolso/object_detection\" target=\"_blank\">https://wandb.ai/jaeyeolso/object_detection</a><br/>\n",
       "                Run page: <a href=\"https://wandb.ai/jaeyeolso/object_detection/runs/3r2vyxw4\" target=\"_blank\">https://wandb.ai/jaeyeolso/object_detection/runs/3r2vyxw4</a><br/>\n",
       "                Run data is saved locally in <code>/opt/ml/wandb/run-20210519_115520-3r2vyxw4</code><br/><br/>\n",
       "            "
      ],
      "text/plain": [
       "<IPython.core.display.HTML object>"
      ]
     },
     "metadata": {},
     "output_type": "display_data"
    },
    {
     "name": "stderr",
     "output_type": "stream",
     "text": [
      "100%|██████████| 219/219 [05:06<00:00,  1.40s/it]\n",
      "100%|██████████| 55/55 [00:32<00:00,  1.68it/s]\n"
     ]
    },
    {
     "name": "stdout",
     "output_type": "stream",
     "text": [
      "\n",
      "Epoch #1 train loss: [141.78404961590735] train cls loss : [140.95246401291382] train box loss : [0.01663171035694197] validation mAP : [0.0002717303096907903] \n",
      "\n"
     ]
    },
    {
     "name": "stderr",
     "output_type": "stream",
     "text": [
      "  0%|          | 0/219 [00:00<?, ?it/s]"
     ]
    },
    {
     "name": "stdout",
     "output_type": "stream",
     "text": [
      "model is saved..\n"
     ]
    },
    {
     "name": "stderr",
     "output_type": "stream",
     "text": [
      "100%|██████████| 219/219 [04:59<00:00,  1.37s/it]\n",
      "100%|██████████| 55/55 [00:32<00:00,  1.71it/s]\n"
     ]
    },
    {
     "name": "stdout",
     "output_type": "stream",
     "text": [
      "\n",
      "Epoch #2 train loss: [1.4447125044769125] train cls loss : [0.9478409585489952] train box loss : [0.009937430935868062] validation mAP : [0.04178724848754474] \n",
      "\n"
     ]
    },
    {
     "name": "stderr",
     "output_type": "stream",
     "text": [
      "  0%|          | 0/219 [00:00<?, ?it/s]"
     ]
    },
    {
     "name": "stdout",
     "output_type": "stream",
     "text": [
      "model is saved..\n"
     ]
    },
    {
     "name": "stderr",
     "output_type": "stream",
     "text": [
      "100%|██████████| 219/219 [04:58<00:00,  1.37s/it]\n",
      "100%|██████████| 55/55 [00:32<00:00,  1.69it/s]\n"
     ]
    },
    {
     "name": "stdout",
     "output_type": "stream",
     "text": [
      "\n",
      "Epoch #3 train loss: [1.0870240408817593] train cls loss : [0.7108092728943874] train box loss : [0.007524295365896943] validation mAP : [0.07006539260668833] \n",
      "\n"
     ]
    },
    {
     "name": "stderr",
     "output_type": "stream",
     "text": [
      "  0%|          | 0/219 [00:00<?, ?it/s]"
     ]
    },
    {
     "name": "stdout",
     "output_type": "stream",
     "text": [
      "model is saved..\n"
     ]
    },
    {
     "name": "stderr",
     "output_type": "stream",
     "text": [
      "100%|██████████| 219/219 [04:59<00:00,  1.37s/it]\n",
      "100%|██████████| 55/55 [00:31<00:00,  1.72it/s]\n"
     ]
    },
    {
     "name": "stdout",
     "output_type": "stream",
     "text": [
      "\n",
      "Epoch #4 train loss: [0.9175995723136199] train cls loss : [0.6048860585001711] train box loss : [0.00625427033845442] validation mAP : [0.10501976902288863] \n",
      "\n"
     ]
    },
    {
     "name": "stderr",
     "output_type": "stream",
     "text": [
      "  0%|          | 0/219 [00:00<?, ?it/s]"
     ]
    },
    {
     "name": "stdout",
     "output_type": "stream",
     "text": [
      "model is saved..\n"
     ]
    },
    {
     "name": "stderr",
     "output_type": "stream",
     "text": [
      "100%|██████████| 219/219 [04:59<00:00,  1.37s/it]\n",
      "100%|██████████| 55/55 [00:32<00:00,  1.70it/s]\n"
     ]
    },
    {
     "name": "stdout",
     "output_type": "stream",
     "text": [
      "\n",
      "Epoch #5 train loss: [0.8017472064035013] train cls loss : [0.5285816854495878] train box loss : [0.005463310431605038] validation mAP : [0.12424587188022905] \n",
      "\n"
     ]
    },
    {
     "name": "stderr",
     "output_type": "stream",
     "text": [
      "  0%|          | 0/219 [00:00<?, ?it/s]"
     ]
    },
    {
     "name": "stdout",
     "output_type": "stream",
     "text": [
      "model is saved..\n"
     ]
    },
    {
     "name": "stderr",
     "output_type": "stream",
     "text": [
      "100%|██████████| 219/219 [05:01<00:00,  1.38s/it]\n",
      "100%|██████████| 55/55 [00:31<00:00,  1.72it/s]\n"
     ]
    },
    {
     "name": "stdout",
     "output_type": "stream",
     "text": [
      "\n",
      "Epoch #6 train loss: [0.706925622461222] train cls loss : [0.4696208368310684] train box loss : [0.004746095685378702] validation mAP : [0.13668301547742456] \n",
      "\n"
     ]
    },
    {
     "name": "stderr",
     "output_type": "stream",
     "text": [
      "  0%|          | 0/219 [00:00<?, ?it/s]"
     ]
    },
    {
     "name": "stdout",
     "output_type": "stream",
     "text": [
      "model is saved..\n"
     ]
    },
    {
     "name": "stderr",
     "output_type": "stream",
     "text": [
      "100%|██████████| 219/219 [05:01<00:00,  1.38s/it]\n",
      "100%|██████████| 55/55 [00:32<00:00,  1.71it/s]\n"
     ]
    },
    {
     "name": "stdout",
     "output_type": "stream",
     "text": [
      "\n",
      "Epoch #7 train loss: [0.6265516795636499] train cls loss : [0.42250403487413585] train box loss : [0.004080952893206647] validation mAP : [0.157941067290918] \n",
      "\n"
     ]
    },
    {
     "name": "stderr",
     "output_type": "stream",
     "text": [
      "  0%|          | 0/219 [00:00<?, ?it/s]"
     ]
    },
    {
     "name": "stdout",
     "output_type": "stream",
     "text": [
      "model is saved..\n"
     ]
    },
    {
     "name": "stderr",
     "output_type": "stream",
     "text": [
      "100%|██████████| 219/219 [05:02<00:00,  1.38s/it]\n",
      "100%|██████████| 55/55 [00:31<00:00,  1.74it/s]\n",
      "  0%|          | 0/219 [00:00<?, ?it/s]"
     ]
    },
    {
     "name": "stdout",
     "output_type": "stream",
     "text": [
      "\n",
      "Epoch #8 train loss: [0.5697151016519413] train cls loss : [0.3866872068837621] train box loss : [0.003660557880114378] validation mAP : [0.15711556912323862] \n",
      "\n"
     ]
    },
    {
     "name": "stderr",
     "output_type": "stream",
     "text": [
      "100%|██████████| 219/219 [05:01<00:00,  1.38s/it]\n",
      "100%|██████████| 55/55 [00:31<00:00,  1.72it/s]\n"
     ]
    },
    {
     "name": "stdout",
     "output_type": "stream",
     "text": [
      "\n",
      "Epoch #9 train loss: [0.5218791384071989] train cls loss : [0.35719771760084906] train box loss : [0.0032936284116785695] validation mAP : [0.17787931696690987] \n",
      "\n"
     ]
    },
    {
     "name": "stderr",
     "output_type": "stream",
     "text": [
      "  0%|          | 0/219 [00:00<?, ?it/s]"
     ]
    },
    {
     "name": "stdout",
     "output_type": "stream",
     "text": [
      "model is saved..\n"
     ]
    },
    {
     "name": "stderr",
     "output_type": "stream",
     "text": [
      "100%|██████████| 219/219 [05:00<00:00,  1.37s/it]\n",
      "100%|██████████| 55/55 [00:31<00:00,  1.74it/s]\n"
     ]
    },
    {
     "name": "stdout",
     "output_type": "stream",
     "text": [
      "\n",
      "Epoch #10 train loss: [0.4782138770438352] train cls loss : [0.32967707197038465] train box loss : [0.002970736066144946] validation mAP : [0.1990367707037229] \n",
      "\n"
     ]
    },
    {
     "name": "stderr",
     "output_type": "stream",
     "text": [
      "  0%|          | 0/219 [00:00<?, ?it/s]"
     ]
    },
    {
     "name": "stdout",
     "output_type": "stream",
     "text": [
      "model is saved..\n"
     ]
    },
    {
     "name": "stderr",
     "output_type": "stream",
     "text": [
      "100%|██████████| 219/219 [05:00<00:00,  1.37s/it]\n",
      "100%|██████████| 55/55 [00:31<00:00,  1.73it/s]\n",
      "  0%|          | 0/219 [00:00<?, ?it/s]"
     ]
    },
    {
     "name": "stdout",
     "output_type": "stream",
     "text": [
      "\n",
      "Epoch #11 train loss: [0.438582715115385] train cls loss : [0.3048805266812324] train box loss : [0.0026740437582772926] validation mAP : [0.19290883954451588] \n",
      "\n"
     ]
    },
    {
     "name": "stderr",
     "output_type": "stream",
     "text": [
      "100%|██████████| 219/219 [05:00<00:00,  1.37s/it]\n",
      "100%|██████████| 55/55 [00:31<00:00,  1.75it/s]\n"
     ]
    },
    {
     "name": "stdout",
     "output_type": "stream",
     "text": [
      "\n",
      "Epoch #12 train loss: [0.4020810206063066] train cls loss : [0.28053559358902547] train box loss : [0.0024309085455075773] validation mAP : [0.20805650498256376] \n",
      "\n"
     ]
    },
    {
     "name": "stderr",
     "output_type": "stream",
     "text": [
      "  0%|          | 0/219 [00:00<?, ?it/s]"
     ]
    },
    {
     "name": "stdout",
     "output_type": "stream",
     "text": [
      "model is saved..\n"
     ]
    },
    {
     "name": "stderr",
     "output_type": "stream",
     "text": [
      "100%|██████████| 219/219 [05:03<00:00,  1.38s/it]\n",
      "100%|██████████| 55/55 [00:31<00:00,  1.75it/s]\n"
     ]
    },
    {
     "name": "stdout",
     "output_type": "stream",
     "text": [
      "\n",
      "Epoch #13 train loss: [0.37761974052295094] train cls loss : [0.26522400470740204] train box loss : [0.002247914701079566] validation mAP : [0.2080733909370094] \n",
      "\n"
     ]
    },
    {
     "name": "stderr",
     "output_type": "stream",
     "text": [
      "  0%|          | 0/219 [00:00<?, ?it/s]"
     ]
    },
    {
     "name": "stdout",
     "output_type": "stream",
     "text": [
      "model is saved..\n"
     ]
    },
    {
     "name": "stderr",
     "output_type": "stream",
     "text": [
      "100%|██████████| 219/219 [05:00<00:00,  1.37s/it]\n",
      "100%|██████████| 55/55 [00:31<00:00,  1.76it/s]\n",
      "  0%|          | 0/219 [00:00<?, ?it/s]"
     ]
    },
    {
     "name": "stdout",
     "output_type": "stream",
     "text": [
      "\n",
      "Epoch #14 train loss: [0.3532283224470068] train cls loss : [0.24862059572747885] train box loss : [0.002092154531636093] validation mAP : [0.20792237347103684] \n",
      "\n"
     ]
    },
    {
     "name": "stderr",
     "output_type": "stream",
     "text": [
      "100%|██████████| 219/219 [05:00<00:00,  1.37s/it]\n",
      "100%|██████████| 55/55 [00:31<00:00,  1.77it/s]\n"
     ]
    },
    {
     "name": "stdout",
     "output_type": "stream",
     "text": [
      "\n",
      "Epoch #15 train loss: [0.33526059574055045] train cls loss : [0.23595406337689934] train box loss : [0.0019861306275575953] validation mAP : [0.2152445136682784] \n",
      "\n"
     ]
    },
    {
     "name": "stderr",
     "output_type": "stream",
     "text": [
      "  0%|          | 0/219 [00:00<?, ?it/s]"
     ]
    },
    {
     "name": "stdout",
     "output_type": "stream",
     "text": [
      "model is saved..\n"
     ]
    },
    {
     "name": "stderr",
     "output_type": "stream",
     "text": [
      "100%|██████████| 219/219 [05:01<00:00,  1.38s/it]\n",
      "100%|██████████| 55/55 [00:31<00:00,  1.76it/s]\n"
     ]
    },
    {
     "name": "stdout",
     "output_type": "stream",
     "text": [
      "\n",
      "Epoch #16 train loss: [0.318044937335675] train cls loss : [0.22444595518939406] train box loss : [0.0018719796391675888] validation mAP : [0.21555273735428646] \n",
      "\n"
     ]
    },
    {
     "name": "stderr",
     "output_type": "stream",
     "text": [
      "  0%|          | 0/219 [00:00<?, ?it/s]"
     ]
    },
    {
     "name": "stdout",
     "output_type": "stream",
     "text": [
      "model is saved..\n"
     ]
    },
    {
     "name": "stderr",
     "output_type": "stream",
     "text": [
      "100%|██████████| 219/219 [05:01<00:00,  1.38s/it]\n",
      "100%|██████████| 55/55 [00:31<00:00,  1.77it/s]\n"
     ]
    },
    {
     "name": "stdout",
     "output_type": "stream",
     "text": [
      "\n",
      "Epoch #17 train loss: [0.30461411783382736] train cls loss : [0.2145782788040349] train box loss : [0.0018007167773849745] validation mAP : [0.2239844247075836] \n",
      "\n"
     ]
    },
    {
     "name": "stderr",
     "output_type": "stream",
     "text": [
      "  0%|          | 0/219 [00:00<?, ?it/s]"
     ]
    },
    {
     "name": "stdout",
     "output_type": "stream",
     "text": [
      "model is saved..\n"
     ]
    },
    {
     "name": "stderr",
     "output_type": "stream",
     "text": [
      "100%|██████████| 219/219 [05:01<00:00,  1.38s/it]\n",
      "100%|██████████| 55/55 [00:31<00:00,  1.77it/s]\n",
      "  0%|          | 0/219 [00:00<?, ?it/s]"
     ]
    },
    {
     "name": "stdout",
     "output_type": "stream",
     "text": [
      "\n",
      "Epoch #18 train loss: [0.29655677020936966] train cls loss : [0.2096206088659642] train box loss : [0.0017387232200317669] validation mAP : [0.22277337926410268] \n",
      "\n"
     ]
    },
    {
     "name": "stderr",
     "output_type": "stream",
     "text": [
      "100%|██████████| 219/219 [05:00<00:00,  1.37s/it]\n",
      "100%|██████████| 55/55 [00:30<00:00,  1.79it/s]\n",
      "  0%|          | 0/219 [00:00<?, ?it/s]"
     ]
    },
    {
     "name": "stdout",
     "output_type": "stream",
     "text": [
      "\n",
      "Epoch #19 train loss: [0.2903738949059256] train cls loss : [0.20470331432166153] train box loss : [0.0017134116143685718] validation mAP : [0.22334821165314062] \n",
      "\n"
     ]
    },
    {
     "name": "stderr",
     "output_type": "stream",
     "text": [
      "100%|██████████| 219/219 [05:01<00:00,  1.38s/it]\n",
      "100%|██████████| 55/55 [00:30<00:00,  1.78it/s]\n",
      "  0%|          | 0/219 [00:00<?, ?it/s]"
     ]
    },
    {
     "name": "stdout",
     "output_type": "stream",
     "text": [
      "\n",
      "Epoch #20 train loss: [0.2883559194374595] train cls loss : [0.2031384473043769] train box loss : [0.0017043494487399813] validation mAP : [0.22042296451091314] \n",
      "\n"
     ]
    },
    {
     "name": "stderr",
     "output_type": "stream",
     "text": [
      "100%|██████████| 219/219 [05:01<00:00,  1.38s/it]\n",
      "100%|██████████| 55/55 [00:30<00:00,  1.78it/s]\n",
      "  0%|          | 0/219 [00:00<?, ?it/s]"
     ]
    },
    {
     "name": "stdout",
     "output_type": "stream",
     "text": [
      "\n",
      "Epoch #21 train loss: [0.2877359802161732] train cls loss : [0.20271360619085455] train box loss : [0.0017004474733017007] validation mAP : [0.2232696599917802] \n",
      "\n"
     ]
    },
    {
     "name": "stderr",
     "output_type": "stream",
     "text": [
      "100%|██████████| 219/219 [05:01<00:00,  1.37s/it]\n",
      "100%|██████████| 55/55 [00:31<00:00,  1.76it/s]\n",
      "  0%|          | 0/219 [00:00<?, ?it/s]"
     ]
    },
    {
     "name": "stdout",
     "output_type": "stream",
     "text": [
      "\n",
      "Epoch #22 train loss: [0.28769976771829875] train cls loss : [0.20340411988523657] train box loss : [0.0016859129478622556] validation mAP : [0.22107887107714425] \n",
      "\n"
     ]
    },
    {
     "name": "stderr",
     "output_type": "stream",
     "text": [
      "100%|██████████| 219/219 [05:00<00:00,  1.37s/it]\n",
      "100%|██████████| 55/55 [00:31<00:00,  1.76it/s]\n"
     ]
    },
    {
     "name": "stdout",
     "output_type": "stream",
     "text": [
      "\n",
      "Epoch #23 train loss: [0.2869437031154647] train cls loss : [0.20143502821414855] train box loss : [0.0017101735104925939] validation mAP : [0.22434198737983535] \n",
      "\n"
     ]
    },
    {
     "name": "stderr",
     "output_type": "stream",
     "text": [
      "  0%|          | 0/219 [00:00<?, ?it/s]"
     ]
    },
    {
     "name": "stdout",
     "output_type": "stream",
     "text": [
      "model is saved..\n"
     ]
    },
    {
     "name": "stderr",
     "output_type": "stream",
     "text": [
      "100%|██████████| 219/219 [05:00<00:00,  1.37s/it]\n",
      "100%|██████████| 55/55 [00:30<00:00,  1.78it/s]\n",
      "  0%|          | 0/219 [00:00<?, ?it/s]"
     ]
    },
    {
     "name": "stdout",
     "output_type": "stream",
     "text": [
      "\n",
      "Epoch #24 train loss: [0.2851426320127007] train cls loss : [0.20051988705360665] train box loss : [0.001692454878669296] validation mAP : [0.22278761717518947] \n",
      "\n"
     ]
    },
    {
     "name": "stderr",
     "output_type": "stream",
     "text": [
      "100%|██████████| 219/219 [05:00<00:00,  1.37s/it]\n",
      "100%|██████████| 55/55 [00:31<00:00,  1.77it/s]\n"
     ]
    },
    {
     "name": "stdout",
     "output_type": "stream",
     "text": [
      "\n",
      "Epoch #25 train loss: [0.28386959621457136] train cls loss : [0.19900214366890978] train box loss : [0.0016973490525538121] validation mAP : [0.22661588968887306] \n",
      "\n"
     ]
    },
    {
     "name": "stderr",
     "output_type": "stream",
     "text": [
      "  0%|          | 0/219 [00:00<?, ?it/s]"
     ]
    },
    {
     "name": "stdout",
     "output_type": "stream",
     "text": [
      "model is saved..\n"
     ]
    },
    {
     "name": "stderr",
     "output_type": "stream",
     "text": [
      "100%|██████████| 219/219 [05:00<00:00,  1.37s/it]\n",
      "100%|██████████| 55/55 [00:31<00:00,  1.76it/s]\n",
      "  0%|          | 0/219 [00:00<?, ?it/s]"
     ]
    },
    {
     "name": "stdout",
     "output_type": "stream",
     "text": [
      "\n",
      "Epoch #26 train loss: [0.2820724957217959] train cls loss : [0.19644286992853272] train box loss : [0.0017125925030858236] validation mAP : [0.22371239935452006] \n",
      "\n"
     ]
    },
    {
     "name": "stderr",
     "output_type": "stream",
     "text": [
      "100%|██████████| 219/219 [05:01<00:00,  1.38s/it]\n",
      "100%|██████████| 55/55 [00:30<00:00,  1.80it/s]\n",
      "  0%|          | 0/219 [00:00<?, ?it/s]"
     ]
    },
    {
     "name": "stdout",
     "output_type": "stream",
     "text": [
      "\n",
      "Epoch #27 train loss: [0.2802144460064061] train cls loss : [0.19458467380937658] train box loss : [0.0017125954509691046] validation mAP : [0.22396244008797841] \n",
      "\n"
     ]
    },
    {
     "name": "stderr",
     "output_type": "stream",
     "text": [
      "100%|██████████| 219/219 [05:01<00:00,  1.37s/it]\n",
      "100%|██████████| 55/55 [00:30<00:00,  1.81it/s]\n",
      "  0%|          | 0/219 [00:00<?, ?it/s]"
     ]
    },
    {
     "name": "stdout",
     "output_type": "stream",
     "text": [
      "\n",
      "Epoch #28 train loss: [0.27949541652298265] train cls loss : [0.19365882484066518] train box loss : [0.0017167318393118654] validation mAP : [0.21883485274623463] \n",
      "\n"
     ]
    },
    {
     "name": "stderr",
     "output_type": "stream",
     "text": [
      "100%|██████████| 219/219 [05:01<00:00,  1.38s/it]\n",
      "100%|██████████| 55/55 [00:31<00:00,  1.77it/s]\n",
      "  0%|          | 0/219 [00:00<?, ?it/s]"
     ]
    },
    {
     "name": "stdout",
     "output_type": "stream",
     "text": [
      "\n",
      "Epoch #29 train loss: [0.2921785472411439] train cls loss : [0.200927904818775] train box loss : [0.001825012855429628] validation mAP : [0.2087395495190001] \n",
      "\n"
     ]
    },
    {
     "name": "stderr",
     "output_type": "stream",
     "text": [
      "100%|██████████| 219/219 [05:03<00:00,  1.38s/it]\n",
      "100%|██████████| 55/55 [00:31<00:00,  1.75it/s]\n",
      "  0%|          | 0/219 [00:00<?, ?it/s]"
     ]
    },
    {
     "name": "stdout",
     "output_type": "stream",
     "text": [
      "\n",
      "Epoch #30 train loss: [0.28829283248754145] train cls loss : [0.1969530190681746] train box loss : [0.0018267962623588288] validation mAP : [0.22069771392885643] \n",
      "\n"
     ]
    },
    {
     "name": "stderr",
     "output_type": "stream",
     "text": [
      "100%|██████████| 219/219 [05:00<00:00,  1.37s/it]\n",
      "100%|██████████| 55/55 [00:30<00:00,  1.79it/s]\n",
      "  0%|          | 0/219 [00:00<?, ?it/s]"
     ]
    },
    {
     "name": "stdout",
     "output_type": "stream",
     "text": [
      "\n",
      "Epoch #31 train loss: [0.2884030363055919] train cls loss : [0.1958930447532514] train box loss : [0.0018501998293492907] validation mAP : [0.2111629326965684] \n",
      "\n"
     ]
    },
    {
     "name": "stderr",
     "output_type": "stream",
     "text": [
      "100%|██████████| 219/219 [05:01<00:00,  1.38s/it]\n",
      "100%|██████████| 55/55 [00:31<00:00,  1.76it/s]\n",
      "  0%|          | 0/219 [00:00<?, ?it/s]"
     ]
    },
    {
     "name": "stdout",
     "output_type": "stream",
     "text": [
      "\n",
      "Epoch #32 train loss: [0.28559418432030187] train cls loss : [0.1922134641681776] train box loss : [0.0018676144012559973] validation mAP : [0.21342555627809118] \n",
      "\n"
     ]
    },
    {
     "name": "stderr",
     "output_type": "stream",
     "text": [
      "  6%|▌         | 13/219 [00:19<05:16,  1.54s/it]\n"
     ]
    },
    {
     "ename": "KeyboardInterrupt",
     "evalue": "",
     "output_type": "error",
     "traceback": [
      "\u001b[0;31m---------------------------------------------------------------------------\u001b[0m",
      "\u001b[0;31mKeyboardInterrupt\u001b[0m                         Traceback (most recent call last)",
      "\u001b[0;32m<ipython-input-13-79024b98fbe5>\u001b[0m in \u001b[0;36m<module>\u001b[0;34m\u001b[0m\n\u001b[1;32m      3\u001b[0m \u001b[0mwandb\u001b[0m\u001b[0;34m.\u001b[0m\u001b[0minit\u001b[0m\u001b[0;34m(\u001b[0m\u001b[0mproject\u001b[0m\u001b[0;34m=\u001b[0m\u001b[0;34m\"object_detection\"\u001b[0m\u001b[0;34m)\u001b[0m\u001b[0;34m\u001b[0m\u001b[0;34m\u001b[0m\u001b[0m\n\u001b[1;32m      4\u001b[0m \u001b[0mwandb\u001b[0m\u001b[0;34m.\u001b[0m\u001b[0mrun\u001b[0m\u001b[0;34m.\u001b[0m\u001b[0mname\u001b[0m \u001b[0;34m=\u001b[0m \u001b[0;34m'effidet_cosine'\u001b[0m\u001b[0;34m\u001b[0m\u001b[0;34m\u001b[0m\u001b[0m\n\u001b[0;32m----> 5\u001b[0;31m \u001b[0mtrain_fn\u001b[0m\u001b[0;34m(\u001b[0m\u001b[0mmodel\u001b[0m\u001b[0;34m,\u001b[0m \u001b[0mtrain_data_loader\u001b[0m\u001b[0;34m,\u001b[0m \u001b[0mval_data_loader\u001b[0m\u001b[0;34m,\u001b[0m \u001b[0moptimizer\u001b[0m\u001b[0;34m,\u001b[0m \u001b[0mscheduler\u001b[0m\u001b[0;34m,\u001b[0m \u001b[0mdevice\u001b[0m\u001b[0;34m)\u001b[0m\u001b[0;34m\u001b[0m\u001b[0;34m\u001b[0m\u001b[0m\n\u001b[0m",
      "\u001b[0;32m<ipython-input-8-d07156da25b2>\u001b[0m in \u001b[0;36mtrain_fn\u001b[0;34m(model, train_data_loader, val_data_loader, optimizer, scheduler, device)\u001b[0m\n\u001b[1;32m     34\u001b[0m             \u001b[0moptimizer\u001b[0m\u001b[0;34m.\u001b[0m\u001b[0mzero_grad\u001b[0m\u001b[0;34m(\u001b[0m\u001b[0;34m)\u001b[0m\u001b[0;34m\u001b[0m\u001b[0;34m\u001b[0m\u001b[0m\n\u001b[1;32m     35\u001b[0m             \u001b[0mlosses\u001b[0m\u001b[0;34m.\u001b[0m\u001b[0mbackward\u001b[0m\u001b[0;34m(\u001b[0m\u001b[0;34m)\u001b[0m\u001b[0;34m\u001b[0m\u001b[0;34m\u001b[0m\u001b[0m\n\u001b[0;32m---> 36\u001b[0;31m             \u001b[0mtorch\u001b[0m\u001b[0;34m.\u001b[0m\u001b[0mnn\u001b[0m\u001b[0;34m.\u001b[0m\u001b[0mutils\u001b[0m\u001b[0;34m.\u001b[0m\u001b[0mclip_grad_norm_\u001b[0m\u001b[0;34m(\u001b[0m\u001b[0mmodel\u001b[0m\u001b[0;34m.\u001b[0m\u001b[0mparameters\u001b[0m\u001b[0;34m(\u001b[0m\u001b[0;34m)\u001b[0m\u001b[0;34m,\u001b[0m \u001b[0;36m10.0\u001b[0m\u001b[0;34m)\u001b[0m\u001b[0;34m\u001b[0m\u001b[0;34m\u001b[0m\u001b[0m\n\u001b[0m\u001b[1;32m     37\u001b[0m             \u001b[0moptimizer\u001b[0m\u001b[0;34m.\u001b[0m\u001b[0mstep\u001b[0m\u001b[0;34m(\u001b[0m\u001b[0;34m)\u001b[0m\u001b[0;34m\u001b[0m\u001b[0;34m\u001b[0m\u001b[0m\n\u001b[1;32m     38\u001b[0m         \u001b[0mscheduler\u001b[0m\u001b[0;34m.\u001b[0m\u001b[0mstep\u001b[0m\u001b[0;34m(\u001b[0m\u001b[0;34m)\u001b[0m\u001b[0;34m\u001b[0m\u001b[0;34m\u001b[0m\u001b[0m\n",
      "\u001b[0;32m/opt/conda/lib/python3.7/site-packages/torch/nn/utils/clip_grad.py\u001b[0m in \u001b[0;36mclip_grad_norm_\u001b[0;34m(parameters, max_norm, norm_type)\u001b[0m\n\u001b[1;32m     33\u001b[0m         \u001b[0mtotal_norm\u001b[0m \u001b[0;34m=\u001b[0m \u001b[0mtorch\u001b[0m\u001b[0;34m.\u001b[0m\u001b[0mnorm\u001b[0m\u001b[0;34m(\u001b[0m\u001b[0mtorch\u001b[0m\u001b[0;34m.\u001b[0m\u001b[0mstack\u001b[0m\u001b[0;34m(\u001b[0m\u001b[0;34m[\u001b[0m\u001b[0mtorch\u001b[0m\u001b[0;34m.\u001b[0m\u001b[0mnorm\u001b[0m\u001b[0;34m(\u001b[0m\u001b[0mp\u001b[0m\u001b[0;34m.\u001b[0m\u001b[0mgrad\u001b[0m\u001b[0;34m.\u001b[0m\u001b[0mdetach\u001b[0m\u001b[0;34m(\u001b[0m\u001b[0;34m)\u001b[0m\u001b[0;34m,\u001b[0m \u001b[0mnorm_type\u001b[0m\u001b[0;34m)\u001b[0m\u001b[0;34m.\u001b[0m\u001b[0mto\u001b[0m\u001b[0;34m(\u001b[0m\u001b[0mdevice\u001b[0m\u001b[0;34m)\u001b[0m \u001b[0;32mfor\u001b[0m \u001b[0mp\u001b[0m \u001b[0;32min\u001b[0m \u001b[0mparameters\u001b[0m\u001b[0;34m]\u001b[0m\u001b[0;34m)\u001b[0m\u001b[0;34m,\u001b[0m \u001b[0mnorm_type\u001b[0m\u001b[0;34m)\u001b[0m\u001b[0;34m\u001b[0m\u001b[0;34m\u001b[0m\u001b[0m\n\u001b[1;32m     34\u001b[0m     \u001b[0mclip_coef\u001b[0m \u001b[0;34m=\u001b[0m \u001b[0mmax_norm\u001b[0m \u001b[0;34m/\u001b[0m \u001b[0;34m(\u001b[0m\u001b[0mtotal_norm\u001b[0m \u001b[0;34m+\u001b[0m \u001b[0;36m1e-6\u001b[0m\u001b[0;34m)\u001b[0m\u001b[0;34m\u001b[0m\u001b[0;34m\u001b[0m\u001b[0m\n\u001b[0;32m---> 35\u001b[0;31m     \u001b[0;32mif\u001b[0m \u001b[0mclip_coef\u001b[0m \u001b[0;34m<\u001b[0m \u001b[0;36m1\u001b[0m\u001b[0;34m:\u001b[0m\u001b[0;34m\u001b[0m\u001b[0;34m\u001b[0m\u001b[0m\n\u001b[0m\u001b[1;32m     36\u001b[0m         \u001b[0;32mfor\u001b[0m \u001b[0mp\u001b[0m \u001b[0;32min\u001b[0m \u001b[0mparameters\u001b[0m\u001b[0;34m:\u001b[0m\u001b[0;34m\u001b[0m\u001b[0;34m\u001b[0m\u001b[0m\n\u001b[1;32m     37\u001b[0m             \u001b[0mp\u001b[0m\u001b[0;34m.\u001b[0m\u001b[0mgrad\u001b[0m\u001b[0;34m.\u001b[0m\u001b[0mdetach\u001b[0m\u001b[0;34m(\u001b[0m\u001b[0;34m)\u001b[0m\u001b[0;34m.\u001b[0m\u001b[0mmul_\u001b[0m\u001b[0;34m(\u001b[0m\u001b[0mclip_coef\u001b[0m\u001b[0;34m.\u001b[0m\u001b[0mto\u001b[0m\u001b[0;34m(\u001b[0m\u001b[0mp\u001b[0m\u001b[0;34m.\u001b[0m\u001b[0mgrad\u001b[0m\u001b[0;34m.\u001b[0m\u001b[0mdevice\u001b[0m\u001b[0;34m)\u001b[0m\u001b[0;34m)\u001b[0m\u001b[0;34m\u001b[0m\u001b[0;34m\u001b[0m\u001b[0m\n",
      "\u001b[0;31mKeyboardInterrupt\u001b[0m: "
     ]
    }
   ],
   "source": [
    "import wandb\n",
    "\n",
    "wandb.init(project=\"object_detection\")\n",
    "wandb.run.name = 'effidet_cosine'\n",
    "train_fn(model, train_data_loader, val_data_loader, optimizer, scheduler, device)"
   ]
  }
 ],
 "metadata": {
  "kernelspec": {
   "display_name": "Python 3",
   "language": "python",
   "name": "python3"
  },
  "language_info": {
   "codemirror_mode": {
    "name": "ipython",
    "version": 3
   },
   "file_extension": ".py",
   "mimetype": "text/x-python",
   "name": "python",
   "nbconvert_exporter": "python",
   "pygments_lexer": "ipython3",
   "version": "3.7.7"
  }
 },
 "nbformat": 4,
 "nbformat_minor": 5
}
