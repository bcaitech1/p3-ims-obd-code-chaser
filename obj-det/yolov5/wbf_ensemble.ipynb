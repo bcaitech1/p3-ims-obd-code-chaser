{
 "metadata": {
  "language_info": {
   "codemirror_mode": {
    "name": "ipython",
    "version": 3
   },
   "file_extension": ".py",
   "mimetype": "text/x-python",
   "name": "python",
   "nbconvert_exporter": "python",
   "pygments_lexer": "ipython3",
   "version": 3
  },
  "orig_nbformat": 2
 },
 "nbformat": 4,
 "nbformat_minor": 2,
 "cells": [
  {
   "cell_type": "code",
   "execution_count": null,
   "metadata": {},
   "outputs": [],
   "source": [
    "import pandas as pd\n",
    "df1 = pd.read_csv(\"/opt/ml/code/objectDetection_iseo/yolov5/Kfold/exp11/output_s.csv\")\n",
    "df2 = pd.read_csv(\"/opt/ml/code/objectDetection_iseo/yolov5/Kfold/exp12/submission1.csv\")\n",
    "df3 = pd.read_csv(\"/opt/ml/code/objectDetection_iseo/yolov5/Kfold/exp11/output_s.csv\")"
   ]
  },
  {
   "cell_type": "code",
   "execution_count": null,
   "metadata": {},
   "outputs": [],
   "source": [
    "# Yolo filename -> basic file name\n",
    "for i, fn in enumerate(df2.image_id.values):\n",
    "    df3.loc[(df3[\"image_id\"]==fn),\"PredictionString2\"]=df2.loc[i,\"PredictionString\"]\n",
    "    \n"
   ]
  },
  {
   "cell_type": "code",
   "execution_count": null,
   "metadata": {},
   "outputs": [],
   "source": [
    "def pre_processing(predictions, image_size=512):\n",
    "    boxes = []\n",
    "    scores = []\n",
    "    labels = []\n",
    "    for i, pred in enumerate(predictions):\n",
    "        if i%6 ==0:\n",
    "            box = []         \n",
    "            if pred == '':\n",
    "                break\n",
    "            labels.append(int(pred))\n",
    "        elif i%6 ==1:\n",
    "            scores.append(float(pred))\n",
    "                    \n",
    "        elif i%6==2 or i%6==3 or i%6==4 :\n",
    "            box.append(float(pred)/image_size)\n",
    "        else:\n",
    "            box.append(float(pred)/image_size)\n",
    "            boxes.append(box)\n",
    "            \n",
    "    return boxes, scores, labels"
   ]
  },
  {
   "cell_type": "code",
   "execution_count": null,
   "metadata": {},
   "outputs": [],
   "source": [
    "from ensemble_boxes import *\n",
    "def ensemble_wbf(df1,df2, weights=None, iou_thr=0.6, skip_box_thr=0.75):\n",
    "    for si in range(len(df1)):\n",
    "        boxes1, scores1, labels1 = pre_pc(df1.loc[si,\"PredictionString\"].split(' '))\n",
    "        boxes2, scores2, labels2 = pre_pc(df2.loc[si,\"PredictionString\"].split(' '))\n",
    "\n",
    "        boxes_list=[boxes1, boxes2 for ]\n",
    "        scores_list=[]\n",
    "        labels_list=[]\n",
    "        boxes_list.append(boxes1)\n",
    "        boxes_list.append(boxes2)\n",
    "        scores_list.append(scores1)\n",
    "        scores_list.append(scores2)\n",
    "        labels_list.append(labels1)\n",
    "        labels_list.append(labels2)\n",
    "\n",
    "        boxes, scores, labels = weighted_boxes_fusion(boxes_list, scores_list, labels_list, weights=None, iou_thr=0.5, skip_box_thr=0.2)\n",
    "        boxes=boxes*512\n",
    "        pre_str=''\n",
    "        for i in range(len(labels)):\n",
    "            pre_str+=str(int(labels[i]))+' '+str(scores[i])+' '+str(boxes[i][0])+' '+str(boxes[i][1])+' '+str(boxes[i][2])+' '+str(boxes[i][3])+' ' \n",
    "        df1.loc[si, \"PredictionString\"]=pre_str\n",
    "\n",
    "\n"
   ]
  }
 ]
}